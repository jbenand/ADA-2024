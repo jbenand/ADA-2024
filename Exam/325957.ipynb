{
 "cells": [
  {
   "cell_type": "markdown",
   "metadata": {},
   "source": [
    "# ADA final exam (Fall 2024)"
   ]
  },
  {
   "cell_type": "markdown",
   "metadata": {},
   "source": [
    "This exam consists of 2 tasks. The two tasks are independent of each other. You can solve them in any order."
   ]
  },
  {
   "cell_type": "markdown",
   "metadata": {},
   "source": [
    "## Task 1: Natural Language Processing (50 pts)\n",
    "This part of the exam will analyze a real-world negotiation dataset:\n",
    "\n",
    "Two participants take the role of campsite neighbors and negotiate for Food, Water, and Firewood packages, based on their individual preferences and requirements. This design keeps the task tractable, while still facilitating linguistically rich and personal conversations.\n",
    "\n",
    "At the end of each negotiation, both negotiators receive an outcome score (`outcome`) reflecting their success in achieving their goals. The dataset is divided into two data frames:\n",
    "\n",
    "1. `df_negotiations`, with columns:\n",
    "    - `negotiation_id`: the negotiation identifier\n",
    "    - `agent`: the agent active in that turn, either `mt_agent_1` or `mt_agent_2` (first and second to interact)\n",
    "    - `message`: the message sent to the other agent\n",
    "    - `turn`: the negotiation turn\n",
    "2. `df_meta`, meta information for each negotiation with the outcome and agent background:\n",
    "    - `gender`: (male, female, other)\n",
    "    - `age`: integer\n",
    "    - `outcome`: integer\n",
    "\n",
    "We are interested in finding out: what makes a good (/bad) negotiator?"
   ]
  },
  {
   "cell_type": "markdown",
   "metadata": {},
   "source": [
    "### Part 1: Coding Questions (29 pt)"
   ]
  },
  {
   "cell_type": "code",
   "execution_count": 32,
   "metadata": {},
   "outputs": [
    {
     "data": {
      "text/html": [
       "<div>\n",
       "<style scoped>\n",
       "    .dataframe tbody tr th:only-of-type {\n",
       "        vertical-align: middle;\n",
       "    }\n",
       "\n",
       "    .dataframe tbody tr th {\n",
       "        vertical-align: top;\n",
       "    }\n",
       "\n",
       "    .dataframe thead th {\n",
       "        text-align: right;\n",
       "    }\n",
       "</style>\n",
       "<table border=\"1\" class=\"dataframe\">\n",
       "  <thead>\n",
       "    <tr style=\"text-align: right;\">\n",
       "      <th></th>\n",
       "      <th>agent</th>\n",
       "      <th>message</th>\n",
       "      <th>negotiation_id</th>\n",
       "      <th>turn</th>\n",
       "    </tr>\n",
       "  </thead>\n",
       "  <tbody>\n",
       "    <tr>\n",
       "      <th>0</th>\n",
       "      <td>mturk_agent_1</td>\n",
       "      <td>Hello! 🙂 Let's work together on a deal for the...</td>\n",
       "      <td>0</td>\n",
       "      <td>0</td>\n",
       "    </tr>\n",
       "    <tr>\n",
       "      <th>1</th>\n",
       "      <td>mturk_agent_2</td>\n",
       "      <td>Hey! I'd like some more firewood to keep my do...</td>\n",
       "      <td>0</td>\n",
       "      <td>0</td>\n",
       "    </tr>\n",
       "    <tr>\n",
       "      <th>2</th>\n",
       "      <td>mturk_agent_1</td>\n",
       "      <td>I need firewood as well. We have a large group...</td>\n",
       "      <td>0</td>\n",
       "      <td>1</td>\n",
       "    </tr>\n",
       "    <tr>\n",
       "      <th>3</th>\n",
       "      <td>mturk_agent_2</td>\n",
       "      <td>I see. 😮 What are you least interested in?</td>\n",
       "      <td>0</td>\n",
       "      <td>1</td>\n",
       "    </tr>\n",
       "    <tr>\n",
       "      <th>4</th>\n",
       "      <td>mturk_agent_1</td>\n",
       "      <td>We can make do without extra water. Can we tra...</td>\n",
       "      <td>0</td>\n",
       "      <td>2</td>\n",
       "    </tr>\n",
       "  </tbody>\n",
       "</table>\n",
       "</div>"
      ],
      "text/plain": [
       "           agent                                            message  \\\n",
       "0  mturk_agent_1  Hello! 🙂 Let's work together on a deal for the...   \n",
       "1  mturk_agent_2  Hey! I'd like some more firewood to keep my do...   \n",
       "2  mturk_agent_1  I need firewood as well. We have a large group...   \n",
       "3  mturk_agent_2         I see. 😮 What are you least interested in?   \n",
       "4  mturk_agent_1  We can make do without extra water. Can we tra...   \n",
       "\n",
       "   negotiation_id  turn  \n",
       "0               0     0  \n",
       "1               0     0  \n",
       "2               0     1  \n",
       "3               0     1  \n",
       "4               0     2  "
      ]
     },
     "execution_count": 32,
     "metadata": {},
     "output_type": "execute_result"
    }
   ],
   "source": [
    "import pandas as pd\n",
    "\n",
    "df_negotiations = pd.read_csv('negotiations.csv')\n",
    "df_negotiations.head()"
   ]
  },
  {
   "cell_type": "code",
   "execution_count": 33,
   "metadata": {},
   "outputs": [
    {
     "data": {
      "text/html": [
       "<div>\n",
       "<style scoped>\n",
       "    .dataframe tbody tr th:only-of-type {\n",
       "        vertical-align: middle;\n",
       "    }\n",
       "\n",
       "    .dataframe tbody tr th {\n",
       "        vertical-align: top;\n",
       "    }\n",
       "\n",
       "    .dataframe thead th {\n",
       "        text-align: right;\n",
       "    }\n",
       "</style>\n",
       "<table border=\"1\" class=\"dataframe\">\n",
       "  <thead>\n",
       "    <tr style=\"text-align: right;\">\n",
       "      <th></th>\n",
       "      <th>agent</th>\n",
       "      <th>age</th>\n",
       "      <th>gender</th>\n",
       "      <th>negotiation_id</th>\n",
       "      <th>outcome</th>\n",
       "    </tr>\n",
       "  </thead>\n",
       "  <tbody>\n",
       "    <tr>\n",
       "      <th>0</th>\n",
       "      <td>mturk_agent_1</td>\n",
       "      <td>31</td>\n",
       "      <td>female</td>\n",
       "      <td>797</td>\n",
       "      <td>21</td>\n",
       "    </tr>\n",
       "    <tr>\n",
       "      <th>1</th>\n",
       "      <td>mturk_agent_2</td>\n",
       "      <td>26</td>\n",
       "      <td>male</td>\n",
       "      <td>797</td>\n",
       "      <td>15</td>\n",
       "    </tr>\n",
       "    <tr>\n",
       "      <th>2</th>\n",
       "      <td>mturk_agent_1</td>\n",
       "      <td>65</td>\n",
       "      <td>male</td>\n",
       "      <td>909</td>\n",
       "      <td>18</td>\n",
       "    </tr>\n",
       "    <tr>\n",
       "      <th>3</th>\n",
       "      <td>mturk_agent_2</td>\n",
       "      <td>34</td>\n",
       "      <td>female</td>\n",
       "      <td>909</td>\n",
       "      <td>23</td>\n",
       "    </tr>\n",
       "    <tr>\n",
       "      <th>4</th>\n",
       "      <td>mturk_agent_1</td>\n",
       "      <td>26</td>\n",
       "      <td>male</td>\n",
       "      <td>135</td>\n",
       "      <td>26</td>\n",
       "    </tr>\n",
       "  </tbody>\n",
       "</table>\n",
       "</div>"
      ],
      "text/plain": [
       "           agent  age  gender  negotiation_id  outcome\n",
       "0  mturk_agent_1   31  female             797       21\n",
       "1  mturk_agent_2   26    male             797       15\n",
       "2  mturk_agent_1   65    male             909       18\n",
       "3  mturk_agent_2   34  female             909       23\n",
       "4  mturk_agent_1   26    male             135       26"
      ]
     },
     "execution_count": 33,
     "metadata": {},
     "output_type": "execute_result"
    }
   ],
   "source": [
    "df_meta = pd.read_csv('negotiations_meta.csv')\n",
    "df_meta.head()"
   ]
  },
  {
   "cell_type": "markdown",
   "metadata": {},
   "source": [
    "**1.1 (2 pt)**\n",
    "/Discussion:/ We are interested in analyzing negotiation outcomes by analyzing language usage. In order to use TF-IDF to accomplish this, we will treat all turns from one negotiator in a single negotiation as a \"document\". Why would this definition of \"document\" be preferred over the following two alternatives? Give at least one argument per alternative.\n",
    "\n",
    "- A) Each individual turn is a document\n",
    "- B) The entire negotiation dialogue of both negotiators is a document"
   ]
  },
  {
   "cell_type": "markdown",
   "metadata": {},
   "source": [
    "A) Using each individual turn as a documents ommits the relationship between multiple turns, in fact a single turn in the negotiation does not define the outcome of it, but the succession of every argument turn in a negotiation defines the outcome of it.\n",
    "\n",
    "B) Using the entire dialogue between both negotiators as a document does not allow us to differentiate between the winner and the loser (we ar enot able to determine which term better advantages the winner or the loser of the negotiation)."
   ]
  },
  {
   "cell_type": "markdown",
   "metadata": {},
   "source": [
    "**1.2 (3 pt)**\n",
    "\n",
    "[A, 1 pt] Use the negotiation dataset to create a new dataframe called `df_document` with the following columns:\n",
    "- `negotiation_id`\n",
    "- `agent`\n",
    "- `document`\n",
    "\n",
    "Here, document is defined as described in question 1.1. That is: concatonate messages into a single string and split by the special character `\"\\n\"`."
   ]
  },
  {
   "cell_type": "code",
   "execution_count": 34,
   "metadata": {},
   "outputs": [
    {
     "name": "stdout",
     "output_type": "stream",
     "text": [
      "Dataframe size : (14273, 6)\n"
     ]
    },
    {
     "name": "stderr",
     "output_type": "stream",
     "text": [
      "C:\\Users\\jacqu\\AppData\\Local\\Temp/ipykernel_25940/1369251049.py:7: SettingWithCopyWarning: \n",
      "A value is trying to be set on a copy of a slice from a DataFrame.\n",
      "Try using .loc[row_indexer,col_indexer] = value instead\n",
      "\n",
      "See the caveats in the documentation: https://pandas.pydata.org/pandas-docs/stable/user_guide/indexing.html#returning-a-view-versus-a-copy\n",
      "  df_document['document'] = df_negotiations['message'].apply(lambda x: replace_blank(x))\n"
     ]
    },
    {
     "data": {
      "text/html": [
       "<div>\n",
       "<style scoped>\n",
       "    .dataframe tbody tr th:only-of-type {\n",
       "        vertical-align: middle;\n",
       "    }\n",
       "\n",
       "    .dataframe tbody tr th {\n",
       "        vertical-align: top;\n",
       "    }\n",
       "\n",
       "    .dataframe thead th {\n",
       "        text-align: right;\n",
       "    }\n",
       "</style>\n",
       "<table border=\"1\" class=\"dataframe\">\n",
       "  <thead>\n",
       "    <tr style=\"text-align: right;\">\n",
       "      <th></th>\n",
       "      <th>negotiation_id</th>\n",
       "      <th>agent</th>\n",
       "      <th>document</th>\n",
       "      <th>age</th>\n",
       "      <th>gender</th>\n",
       "      <th>outcome</th>\n",
       "    </tr>\n",
       "  </thead>\n",
       "  <tbody>\n",
       "    <tr>\n",
       "      <th>0</th>\n",
       "      <td>0</td>\n",
       "      <td>mturk_agent_1</td>\n",
       "      <td>Hello!\\n🙂\\nLet's\\nwork\\ntogether\\non\\na\\ndeal\\...</td>\n",
       "      <td>43</td>\n",
       "      <td>male</td>\n",
       "      <td>19</td>\n",
       "    </tr>\n",
       "    <tr>\n",
       "      <th>1</th>\n",
       "      <td>0</td>\n",
       "      <td>mturk_agent_1</td>\n",
       "      <td>I\\nneed\\nfirewood\\nas\\nwell.\\nWe\\nhave\\na\\nlar...</td>\n",
       "      <td>43</td>\n",
       "      <td>male</td>\n",
       "      <td>19</td>\n",
       "    </tr>\n",
       "    <tr>\n",
       "      <th>2</th>\n",
       "      <td>0</td>\n",
       "      <td>mturk_agent_1</td>\n",
       "      <td>We\\ncan\\nmake\\ndo\\nwithout\\nextra\\nwater.\\nCan...</td>\n",
       "      <td>43</td>\n",
       "      <td>male</td>\n",
       "      <td>19</td>\n",
       "    </tr>\n",
       "    <tr>\n",
       "      <th>3</th>\n",
       "      <td>0</td>\n",
       "      <td>mturk_agent_1</td>\n",
       "      <td>We\\nneed\\nsome\\nfirewood\\ntoo,\\nthough!\\n☹️\\nL...</td>\n",
       "      <td>43</td>\n",
       "      <td>male</td>\n",
       "      <td>19</td>\n",
       "    </tr>\n",
       "    <tr>\n",
       "      <th>4</th>\n",
       "      <td>0</td>\n",
       "      <td>mturk_agent_1</td>\n",
       "      <td>Oh\\nsorry\\nfor\\nthe\\nconfusion.\\n😮\\nIn\\nthat\\n...</td>\n",
       "      <td>43</td>\n",
       "      <td>male</td>\n",
       "      <td>19</td>\n",
       "    </tr>\n",
       "  </tbody>\n",
       "</table>\n",
       "</div>"
      ],
      "text/plain": [
       "   negotiation_id          agent  \\\n",
       "0               0  mturk_agent_1   \n",
       "1               0  mturk_agent_1   \n",
       "2               0  mturk_agent_1   \n",
       "3               0  mturk_agent_1   \n",
       "4               0  mturk_agent_1   \n",
       "\n",
       "                                            document  age gender  outcome  \n",
       "0  Hello!\\n🙂\\nLet's\\nwork\\ntogether\\non\\na\\ndeal\\...   43   male       19  \n",
       "1  I\\nneed\\nfirewood\\nas\\nwell.\\nWe\\nhave\\na\\nlar...   43   male       19  \n",
       "2  We\\ncan\\nmake\\ndo\\nwithout\\nextra\\nwater.\\nCan...   43   male       19  \n",
       "3  We\\nneed\\nsome\\nfirewood\\ntoo,\\nthough!\\n☹️\\nL...   43   male       19  \n",
       "4  Oh\\nsorry\\nfor\\nthe\\nconfusion.\\n😮\\nIn\\nthat\\n...   43   male       19  "
      ]
     },
     "execution_count": 34,
     "metadata": {},
     "output_type": "execute_result"
    }
   ],
   "source": [
    "# Unfortunately I did not understand the assignment correctly and thus replaced the blanks in each message by the special character\n",
    "# \"\\n\". I only saw the question update at the end of the exam so I did not have time to change everything. Due to this, all of the \n",
    "# results after this are skewed.\n",
    "\n",
    "df_document = df_negotiations[['negotiation_id', 'agent']]\n",
    "\n",
    "def replace_blank(message):\n",
    "    message = message.replace(' ', '\\n')\n",
    "    return message\n",
    "\n",
    "df_document['document'] = df_negotiations['message'].apply(lambda x: replace_blank(x))\n",
    "\n",
    "df_document = pd.merge(df_document, df_meta)\n",
    "print(\"Dataframe size :\", df_document.shape)\n",
    "df_document.head()"
   ]
  },
  {
   "cell_type": "markdown",
   "metadata": {},
   "source": [
    "[B, 2pt] Next, merge this new dataframe with the `df_meta` dataframe. Print the the size and first five rows of the final dataframe"
   ]
  },
  {
   "cell_type": "code",
   "execution_count": 12,
   "metadata": {},
   "outputs": [
    {
     "name": "stdout",
     "output_type": "stream",
     "text": [
      "Dataframe size : (14273, 6)\n"
     ]
    },
    {
     "data": {
      "text/html": [
       "<div>\n",
       "<style scoped>\n",
       "    .dataframe tbody tr th:only-of-type {\n",
       "        vertical-align: middle;\n",
       "    }\n",
       "\n",
       "    .dataframe tbody tr th {\n",
       "        vertical-align: top;\n",
       "    }\n",
       "\n",
       "    .dataframe thead th {\n",
       "        text-align: right;\n",
       "    }\n",
       "</style>\n",
       "<table border=\"1\" class=\"dataframe\">\n",
       "  <thead>\n",
       "    <tr style=\"text-align: right;\">\n",
       "      <th></th>\n",
       "      <th>negotiation_id</th>\n",
       "      <th>agent</th>\n",
       "      <th>document</th>\n",
       "      <th>age</th>\n",
       "      <th>gender</th>\n",
       "      <th>outcome</th>\n",
       "    </tr>\n",
       "  </thead>\n",
       "  <tbody>\n",
       "    <tr>\n",
       "      <th>0</th>\n",
       "      <td>0</td>\n",
       "      <td>mturk_agent_1</td>\n",
       "      <td>Hello!\\n🙂\\nLet's\\nwork\\ntogether\\non\\na\\ndeal\\...</td>\n",
       "      <td>43</td>\n",
       "      <td>male</td>\n",
       "      <td>19</td>\n",
       "    </tr>\n",
       "    <tr>\n",
       "      <th>1</th>\n",
       "      <td>0</td>\n",
       "      <td>mturk_agent_1</td>\n",
       "      <td>I\\nneed\\nfirewood\\nas\\nwell.\\nWe\\nhave\\na\\nlar...</td>\n",
       "      <td>43</td>\n",
       "      <td>male</td>\n",
       "      <td>19</td>\n",
       "    </tr>\n",
       "    <tr>\n",
       "      <th>2</th>\n",
       "      <td>0</td>\n",
       "      <td>mturk_agent_1</td>\n",
       "      <td>We\\ncan\\nmake\\ndo\\nwithout\\nextra\\nwater.\\nCan...</td>\n",
       "      <td>43</td>\n",
       "      <td>male</td>\n",
       "      <td>19</td>\n",
       "    </tr>\n",
       "    <tr>\n",
       "      <th>3</th>\n",
       "      <td>0</td>\n",
       "      <td>mturk_agent_1</td>\n",
       "      <td>We\\nneed\\nsome\\nfirewood\\ntoo,\\nthough!\\n☹️\\nL...</td>\n",
       "      <td>43</td>\n",
       "      <td>male</td>\n",
       "      <td>19</td>\n",
       "    </tr>\n",
       "    <tr>\n",
       "      <th>4</th>\n",
       "      <td>0</td>\n",
       "      <td>mturk_agent_1</td>\n",
       "      <td>Oh\\nsorry\\nfor\\nthe\\nconfusion.\\n😮\\nIn\\nthat\\n...</td>\n",
       "      <td>43</td>\n",
       "      <td>male</td>\n",
       "      <td>19</td>\n",
       "    </tr>\n",
       "  </tbody>\n",
       "</table>\n",
       "</div>"
      ],
      "text/plain": [
       "   negotiation_id          agent  \\\n",
       "0               0  mturk_agent_1   \n",
       "1               0  mturk_agent_1   \n",
       "2               0  mturk_agent_1   \n",
       "3               0  mturk_agent_1   \n",
       "4               0  mturk_agent_1   \n",
       "\n",
       "                                            document  age gender  outcome  \n",
       "0  Hello!\\n🙂\\nLet's\\nwork\\ntogether\\non\\na\\ndeal\\...   43   male       19  \n",
       "1  I\\nneed\\nfirewood\\nas\\nwell.\\nWe\\nhave\\na\\nlar...   43   male       19  \n",
       "2  We\\ncan\\nmake\\ndo\\nwithout\\nextra\\nwater.\\nCan...   43   male       19  \n",
       "3  We\\nneed\\nsome\\nfirewood\\ntoo,\\nthough!\\n☹️\\nL...   43   male       19  \n",
       "4  Oh\\nsorry\\nfor\\nthe\\nconfusion.\\n😮\\nIn\\nthat\\n...   43   male       19  "
      ]
     },
     "execution_count": 12,
     "metadata": {},
     "output_type": "execute_result"
    }
   ],
   "source": [
    "df_document = pd.merge(df_document, df_meta)\n",
    "print(\"Dataframe size :\", df_document.shape)\n",
    "df_document.head()"
   ]
  },
  {
   "cell_type": "markdown",
   "metadata": {},
   "source": [
    "**1.3 (7 pt)**\n",
    "We would like to analyze the difference between \"best\" and \"worst\" performers based on `outcome`, top and bottom 10% respectively.\n",
    "\n",
    "[A, 2 pt] Find the top and bottom 10% thresholds for the `outcome` columns and print them."
   ]
  },
  {
   "cell_type": "code",
   "execution_count": null,
   "metadata": {},
   "outputs": [],
   "source": []
  },
  {
   "cell_type": "markdown",
   "metadata": {},
   "source": [
    "[B, 1pt] Create a TF-IDF matrix using the `TfidfVectorizer` form `sklearn`, setting `max_features=100` and `stop_words=\"english\"`. Print the resulting TF-IDF matrix shape."
   ]
  },
  {
   "cell_type": "code",
   "execution_count": 18,
   "metadata": {},
   "outputs": [
    {
     "name": "stdout",
     "output_type": "stream",
     "text": [
      "Shape of the TF-IDF matrix : (14273, 100)\n"
     ]
    }
   ],
   "source": [
    "from sklearn.feature_extraction.text import TfidfVectorizer\n",
    "\n",
    "vectorizer = TfidfVectorizer(max_features=100, stop_words='english')\n",
    "\n",
    "tf_idf = vectorizer.fit_transform(df_document['document'])\n",
    "\n",
    "print(\"Shape of the TF-IDF matrix :\", tf_idf.shape)"
   ]
  },
  {
   "cell_type": "markdown",
   "metadata": {},
   "source": [
    "[C, 4pt] Use your thresholds and the TF-IDF matrix to print the top 10 terms for each type of negotiatior (i.e., the best and worst performing negotiators from question 1.3.A)."
   ]
  },
  {
   "cell_type": "code",
   "execution_count": null,
   "metadata": {},
   "outputs": [],
   "source": []
  },
  {
   "cell_type": "markdown",
   "metadata": {},
   "source": [
    "**1.4 (8 pt)**\n",
    "You never get a second chance at a first impression! Let's investigate if the same goes for negotiations...\n",
    "\n",
    "[A, 1pt] Create a new df_document that only takes into account the first three (3) turns of each negotiator in a negotiation. Again, merge on the df_meta dataframe and print the resulting size."
   ]
  },
  {
   "cell_type": "code",
   "execution_count": 28,
   "metadata": {},
   "outputs": [
    {
     "name": "stdout",
     "output_type": "stream",
     "text": [
      "Dataframe size : (6168, 6)\n"
     ]
    },
    {
     "name": "stderr",
     "output_type": "stream",
     "text": [
      "C:\\Users\\jacqu\\AppData\\Local\\Temp/ipykernel_22588/470433082.py:3: SettingWithCopyWarning: \n",
      "A value is trying to be set on a copy of a slice from a DataFrame.\n",
      "Try using .loc[row_indexer,col_indexer] = value instead\n",
      "\n",
      "See the caveats in the documentation: https://pandas.pydata.org/pandas-docs/stable/user_guide/indexing.html#returning-a-view-versus-a-copy\n",
      "  new_df_document['document'] = new_df_document['message'].apply(lambda x: replace_blank(x))\n"
     ]
    },
    {
     "data": {
      "text/html": [
       "<div>\n",
       "<style scoped>\n",
       "    .dataframe tbody tr th:only-of-type {\n",
       "        vertical-align: middle;\n",
       "    }\n",
       "\n",
       "    .dataframe tbody tr th {\n",
       "        vertical-align: top;\n",
       "    }\n",
       "\n",
       "    .dataframe thead th {\n",
       "        text-align: right;\n",
       "    }\n",
       "</style>\n",
       "<table border=\"1\" class=\"dataframe\">\n",
       "  <thead>\n",
       "    <tr style=\"text-align: right;\">\n",
       "      <th></th>\n",
       "      <th>negotiation_id</th>\n",
       "      <th>agent</th>\n",
       "      <th>document</th>\n",
       "      <th>age</th>\n",
       "      <th>gender</th>\n",
       "      <th>outcome</th>\n",
       "    </tr>\n",
       "  </thead>\n",
       "  <tbody>\n",
       "    <tr>\n",
       "      <th>0</th>\n",
       "      <td>0</td>\n",
       "      <td>mturk_agent_1</td>\n",
       "      <td>Hello!\\n🙂\\nLet's\\nwork\\ntogether\\non\\na\\ndeal\\...</td>\n",
       "      <td>43</td>\n",
       "      <td>male</td>\n",
       "      <td>19</td>\n",
       "    </tr>\n",
       "    <tr>\n",
       "      <th>1</th>\n",
       "      <td>0</td>\n",
       "      <td>mturk_agent_1</td>\n",
       "      <td>I\\nneed\\nfirewood\\nas\\nwell.\\nWe\\nhave\\na\\nlar...</td>\n",
       "      <td>43</td>\n",
       "      <td>male</td>\n",
       "      <td>19</td>\n",
       "    </tr>\n",
       "    <tr>\n",
       "      <th>2</th>\n",
       "      <td>0</td>\n",
       "      <td>mturk_agent_1</td>\n",
       "      <td>We\\ncan\\nmake\\ndo\\nwithout\\nextra\\nwater.\\nCan...</td>\n",
       "      <td>43</td>\n",
       "      <td>male</td>\n",
       "      <td>19</td>\n",
       "    </tr>\n",
       "    <tr>\n",
       "      <th>3</th>\n",
       "      <td>0</td>\n",
       "      <td>mturk_agent_2</td>\n",
       "      <td>Hey!\\nI'd\\nlike\\nsome\\nmore\\nfirewood\\nto\\nkee...</td>\n",
       "      <td>22</td>\n",
       "      <td>female</td>\n",
       "      <td>18</td>\n",
       "    </tr>\n",
       "    <tr>\n",
       "      <th>4</th>\n",
       "      <td>0</td>\n",
       "      <td>mturk_agent_2</td>\n",
       "      <td>I\\nsee.\\n😮\\nWhat\\nare\\nyou\\nleast\\ninterested\\...</td>\n",
       "      <td>22</td>\n",
       "      <td>female</td>\n",
       "      <td>18</td>\n",
       "    </tr>\n",
       "  </tbody>\n",
       "</table>\n",
       "</div>"
      ],
      "text/plain": [
       "   negotiation_id          agent  \\\n",
       "0               0  mturk_agent_1   \n",
       "1               0  mturk_agent_1   \n",
       "2               0  mturk_agent_1   \n",
       "3               0  mturk_agent_2   \n",
       "4               0  mturk_agent_2   \n",
       "\n",
       "                                            document  age  gender  outcome  \n",
       "0  Hello!\\n🙂\\nLet's\\nwork\\ntogether\\non\\na\\ndeal\\...   43    male       19  \n",
       "1  I\\nneed\\nfirewood\\nas\\nwell.\\nWe\\nhave\\na\\nlar...   43    male       19  \n",
       "2  We\\ncan\\nmake\\ndo\\nwithout\\nextra\\nwater.\\nCan...   43    male       19  \n",
       "3  Hey!\\nI'd\\nlike\\nsome\\nmore\\nfirewood\\nto\\nkee...   22  female       18  \n",
       "4  I\\nsee.\\n😮\\nWhat\\nare\\nyou\\nleast\\ninterested\\...   22  female       18  "
      ]
     },
     "execution_count": 28,
     "metadata": {},
     "output_type": "execute_result"
    }
   ],
   "source": [
    "# Create the new dataframe considering the first three turns (0, 1 and 2)\n",
    "new_df_document = df_negotiations[df_negotiations['turn']<=2]\n",
    "new_df_document['document'] = new_df_document['message'].apply(lambda x: replace_blank(x))\n",
    "new_df_document = new_df_document[['negotiation_id', 'agent', 'document']]\n",
    "\n",
    "new_df_document = pd.merge(new_df_document, df_meta)\n",
    "print(\"Dataframe size :\", new_df_document.shape)\n",
    "new_df_document.head()"
   ]
  },
  {
   "cell_type": "markdown",
   "metadata": {},
   "source": [
    "[B, 1pt] Calculate the median negotiation outcome. Then, add a column called success to the df_document dataframe that is 1 if the outcome column is more than the median and 0 otherwise. Print the median outcome."
   ]
  },
  {
   "cell_type": "code",
   "execution_count": 34,
   "metadata": {},
   "outputs": [
    {
     "name": "stdout",
     "output_type": "stream",
     "text": [
      "Median outcome : 18.5\n"
     ]
    },
    {
     "data": {
      "text/html": [
       "<div>\n",
       "<style scoped>\n",
       "    .dataframe tbody tr th:only-of-type {\n",
       "        vertical-align: middle;\n",
       "    }\n",
       "\n",
       "    .dataframe tbody tr th {\n",
       "        vertical-align: top;\n",
       "    }\n",
       "\n",
       "    .dataframe thead th {\n",
       "        text-align: right;\n",
       "    }\n",
       "</style>\n",
       "<table border=\"1\" class=\"dataframe\">\n",
       "  <thead>\n",
       "    <tr style=\"text-align: right;\">\n",
       "      <th></th>\n",
       "      <th>negotiation_id</th>\n",
       "      <th>agent</th>\n",
       "      <th>document</th>\n",
       "      <th>age</th>\n",
       "      <th>gender</th>\n",
       "      <th>outcome</th>\n",
       "      <th>success</th>\n",
       "    </tr>\n",
       "  </thead>\n",
       "  <tbody>\n",
       "    <tr>\n",
       "      <th>0</th>\n",
       "      <td>0</td>\n",
       "      <td>mturk_agent_1</td>\n",
       "      <td>Hello!\\n🙂\\nLet's\\nwork\\ntogether\\non\\na\\ndeal\\...</td>\n",
       "      <td>43</td>\n",
       "      <td>male</td>\n",
       "      <td>19</td>\n",
       "      <td>1</td>\n",
       "    </tr>\n",
       "    <tr>\n",
       "      <th>1</th>\n",
       "      <td>0</td>\n",
       "      <td>mturk_agent_1</td>\n",
       "      <td>I\\nneed\\nfirewood\\nas\\nwell.\\nWe\\nhave\\na\\nlar...</td>\n",
       "      <td>43</td>\n",
       "      <td>male</td>\n",
       "      <td>19</td>\n",
       "      <td>1</td>\n",
       "    </tr>\n",
       "    <tr>\n",
       "      <th>2</th>\n",
       "      <td>0</td>\n",
       "      <td>mturk_agent_1</td>\n",
       "      <td>We\\ncan\\nmake\\ndo\\nwithout\\nextra\\nwater.\\nCan...</td>\n",
       "      <td>43</td>\n",
       "      <td>male</td>\n",
       "      <td>19</td>\n",
       "      <td>1</td>\n",
       "    </tr>\n",
       "    <tr>\n",
       "      <th>3</th>\n",
       "      <td>0</td>\n",
       "      <td>mturk_agent_2</td>\n",
       "      <td>Hey!\\nI'd\\nlike\\nsome\\nmore\\nfirewood\\nto\\nkee...</td>\n",
       "      <td>22</td>\n",
       "      <td>female</td>\n",
       "      <td>18</td>\n",
       "      <td>0</td>\n",
       "    </tr>\n",
       "    <tr>\n",
       "      <th>4</th>\n",
       "      <td>0</td>\n",
       "      <td>mturk_agent_2</td>\n",
       "      <td>I\\nsee.\\n😮\\nWhat\\nare\\nyou\\nleast\\ninterested\\...</td>\n",
       "      <td>22</td>\n",
       "      <td>female</td>\n",
       "      <td>18</td>\n",
       "      <td>0</td>\n",
       "    </tr>\n",
       "  </tbody>\n",
       "</table>\n",
       "</div>"
      ],
      "text/plain": [
       "   negotiation_id          agent  \\\n",
       "0               0  mturk_agent_1   \n",
       "1               0  mturk_agent_1   \n",
       "2               0  mturk_agent_1   \n",
       "3               0  mturk_agent_2   \n",
       "4               0  mturk_agent_2   \n",
       "\n",
       "                                            document  age  gender  outcome  \\\n",
       "0  Hello!\\n🙂\\nLet's\\nwork\\ntogether\\non\\na\\ndeal\\...   43    male       19   \n",
       "1  I\\nneed\\nfirewood\\nas\\nwell.\\nWe\\nhave\\na\\nlar...   43    male       19   \n",
       "2  We\\ncan\\nmake\\ndo\\nwithout\\nextra\\nwater.\\nCan...   43    male       19   \n",
       "3  Hey!\\nI'd\\nlike\\nsome\\nmore\\nfirewood\\nto\\nkee...   22  female       18   \n",
       "4  I\\nsee.\\n😮\\nWhat\\nare\\nyou\\nleast\\ninterested\\...   22  female       18   \n",
       "\n",
       "   success  \n",
       "0        1  \n",
       "1        1  \n",
       "2        1  \n",
       "3        0  \n",
       "4        0  "
      ]
     },
     "execution_count": 34,
     "metadata": {},
     "output_type": "execute_result"
    }
   ],
   "source": [
    "median_outcome = new_df_document.groupby('negotiation_id').outcome.median().median()\n",
    "new_df_document['success'] = new_df_document['outcome'].apply(lambda x: 1 if x > median_outcome else 0)\n",
    "\n",
    "print(\"Median outcome :\", median_outcome)\n",
    "new_df_document.head()"
   ]
  },
  {
   "cell_type": "markdown",
   "metadata": {},
   "source": [
    "[C, 2pt] Create a TF-IDF matrix called `X` based on `df_document` using the following settings:\n",
    "\n",
    "`max_features=100, stop_words=\"english, ngram_range=(1, 2)`\n",
    "\n",
    "Additionally, create a variable `y` that corresponds to the success column. Finally, use `sklearn.model_selection.train_test_split` to split your data into a train and test set using parameters `test_size=0.2` and `random_state=99`.\n",
    "\n",
    "Print the shape of the TF-IDF and the shape of your train and test sets."
   ]
  },
  {
   "cell_type": "code",
   "execution_count": 38,
   "metadata": {},
   "outputs": [
    {
     "name": "stdout",
     "output_type": "stream",
     "text": [
      "Shape of X (TF-IDF matrix): (6168, 100)\n",
      "Shape of X_train and y_train: (4934, 100) (4934,)\n",
      "Shape of X_teste and y_test: (1234, 100) (1234,)\n"
     ]
    }
   ],
   "source": [
    "from sklearn.feature_extraction.text import TfidfVectorizer\n",
    "\n",
    "new_vec = TfidfVectorizer(max_features=100, stop_words='english', ngram_range=(1,2))\n",
    "X = new_vec.fit_transform(new_df_document['document'])\n",
    "y = new_df_document['success']\n",
    "\n",
    "from sklearn.model_selection import train_test_split\n",
    "\n",
    "X_train, X_test, y_train, y_test = train_test_split(X, y, test_size=0.2, random_state=99)\n",
    "print(\"Shape of X (TF-IDF matrix):\", X.shape)\n",
    "\n",
    "print(\"Shape of X_train and y_train:\", X_train.shape, y_train.shape)\n",
    "print(\"Shape of X_teste and y_test:\", X_test.shape, y_test.shape)"
   ]
  },
  {
   "cell_type": "markdown",
   "metadata": {},
   "source": [
    "[D, 2pt] Use your prepared data to train a logistic regression model (`sklearn.linear_model.LogisticRegression`). Then, with the trained model predict on the test set and print a classification report (`sklearn.metrics.classification_report`)."
   ]
  },
  {
   "cell_type": "code",
   "execution_count": 41,
   "metadata": {},
   "outputs": [
    {
     "name": "stdout",
     "output_type": "stream",
     "text": [
      "              precision    recall  f1-score   support\n",
      "\n",
      "           0       0.50      0.19      0.27       550\n",
      "           1       0.57      0.85      0.68       684\n",
      "\n",
      "    accuracy                           0.56      1234\n",
      "   macro avg       0.53      0.52      0.48      1234\n",
      "weighted avg       0.54      0.56      0.50      1234\n",
      "\n"
     ]
    }
   ],
   "source": [
    "from sklearn.linear_model import LogisticRegression\n",
    "from sklearn.metrics import classification_report\n",
    "\n",
    "clf = LogisticRegression()\n",
    "clf.fit(X_train, y_train)\n",
    "\n",
    "y_pred = clf.predict(X_test)\n",
    "results = classification_report(y_test, y_pred)\n",
    "print(results)"
   ]
  },
  {
   "cell_type": "markdown",
   "metadata": {},
   "source": [
    "[E, 2pt] Use the weights of your trained model to show which terms mostly strongly correlate with high and low outcomes. Print the best five terms for each."
   ]
  },
  {
   "cell_type": "code",
   "execution_count": 71,
   "metadata": {},
   "outputs": [
    {
     "name": "stdout",
     "output_type": "stream",
     "text": [
      "Indices of the top 5 maximum values are: [ 4 36 39 72 31]\n",
      "Indices of the top 5 minimum values are: [25 34  6 75 26]\n",
      "Best five terms for high outcome : ['camping trip' 'help' 'hiking' 'packages firewood' 'going camping']\n",
      "Best five terms for low outcome : ['food packages' 'having' 'cook' 'pretty' 'food water']\n"
     ]
    }
   ],
   "source": [
    "import numpy as np\n",
    "\n",
    "# Get the indices of the two maximum values\n",
    "best_indices = np.argpartition(clf.coef_[0], -5)[-5:]\n",
    "# Sort the indices to get them in the order they appear in the array\n",
    "best_indices = best_indices[np.argsort(clf.coef_[0,best_indices])]\n",
    "print(f'Indices of the top 5 maximum values are: {best_indices}')\n",
    "\n",
    "# Get the indices of the two maximum values\n",
    "worst_indices = np.argpartition(clf.coef_[0], 5)[:5]\n",
    "# Sort the indices to get them in the order they appear in the array\n",
    "worst_indices = worst_indices[np.argsort(clf.coef_[0,worst_indices])]\n",
    "print(f'Indices of the top 5 minimum values are: {worst_indices}')\n",
    "\n",
    "print(\"Best five terms for high outcome :\", new_vec.get_feature_names_out()[best_indices])\n",
    "print(\"Best five terms for low outcome :\", new_vec.get_feature_names_out()[worst_indices])"
   ]
  },
  {
   "cell_type": "markdown",
   "metadata": {},
   "source": [
    "**1.5 (9 pt)**\n",
    "You are concerned about potential “confounding” factors for your results in the previous question. Specifically, you would like to investigate the effect of “gender” on the outcomes.\n",
    "\n",
    "[A, 3pt] Visualize the outcomes stratified by gender using a bar plot with standard deviation around the mean. Make sure you use clear x- and y-axis labels, a title, and a legend."
   ]
  },
  {
   "cell_type": "code",
   "execution_count": 88,
   "metadata": {},
   "outputs": [
    {
     "data": {
      "image/png": "[encoded data removed]",
      "text/plain": [
       "<Figure size 640x480 with 1 Axes>"
      ]
     },
     "metadata": {},
     "output_type": "display_data"
    }
   ],
   "source": [
    "tmp = new_df_document.groupby(['negotiation_id', 'gender', 'outcome']).count().reset_index()\n",
    "\n",
    "female_outcomes = tmp[tmp['gender']=='female']['outcome']\n",
    "female_outcome_mean = np.mean(female_outcomes.values)\n",
    "female_outcome_std = np.std(female_outcomes)\n",
    "male_outcomes = tmp[tmp['gender']=='male']['outcome']\n",
    "male_outcome_mean = np.mean(male_outcomes.values)\n",
    "male_outcome_std = np.std(male_outcomes)\n",
    "\n",
    "mean_outcomes = [male_outcome_mean, female_outcome_mean]\n",
    "std_outcomes = [male_outcome_std, female_outcome_std]\n",
    "\n",
    "import matplotlib.pyplot as plt\n",
    "x = ['Male', 'Female']\n",
    "plt.bar(x, mean_outcomes)\n",
    "plt.errorbar(x, mean_outcomes, yerr=std_outcomes, fmt=\"o\", color=\"r\")\n",
    "plt.xlabel('Gender')\n",
    "plt.ylabel('Mean outcome')\n",
    "plt.title('Mean outcome with standard deviation with regards to gender')\n",
    "plt.show();"
   ]
  },
  {
   "cell_type": "markdown",
   "metadata": {},
   "source": [
    "[B, 2pt] Perform a T-Test with a confidence interval of 0.95 to check if the outcomes based on gender are statistically significantly different. Print the resulting t-statistic, the p-value, and your interpretation of the result."
   ]
  },
  {
   "cell_type": "code",
   "execution_count": 95,
   "metadata": {},
   "outputs": [
    {
     "name": "stdout",
     "output_type": "stream",
     "text": [
      "TtestResult(statistic=0.34995146057023874, pvalue=0.7264117900519691, df=2010.0) \n",
      "\n",
      "As the p-value is equal to 0.726, we cannot say that the difference in gender is statistially significant\n",
      "when it comes to determining the outcome of the negotiation.\n"
     ]
    }
   ],
   "source": [
    "from scipy.stats import ttest_ind\n",
    "\n",
    "t_test = ttest_ind(male_outcomes, female_outcomes)\n",
    "print(t_test, '\\n')\n",
    "\n",
    "print(\"As the p-value is equal to 0.726, we cannot say that the difference in gender is statistially significant\")\n",
    "print('when it comes to determining the outcome of the negotiation.')"
   ]
  },
  {
   "cell_type": "markdown",
   "metadata": {},
   "source": [
    "[C, 2pt] Finally, we would like to test if the gender distribution between high and low negotiation performers is significantly different. Please perform a chi-square test on the gender distribution of those negotiators scoring above the median outcome. Use a confidence interval of 0.95 and print the resulting chi-square statistic, p-value, and your interpretation of the result."
   ]
  },
  {
   "cell_type": "code",
   "execution_count": 101,
   "metadata": {},
   "outputs": [
    {
     "name": "stdout",
     "output_type": "stream",
     "text": [
      "Power_divergenceResult(statistic=1.4889282550930028, pvalue=0.22238282158780268) \n",
      "\n",
      "Once again, with a confidence interval of 0.95, because the p-value is higher than 0.05,\n",
      "we cannot say that the difference in gender is statistically significant when determining the outcome of the negotiation.\n"
     ]
    }
   ],
   "source": [
    "tmp = new_df_document.groupby(['negotiation_id', 'gender', 'outcome']).count().reset_index()\n",
    "\n",
    "high_negotiators = tmp[tmp['outcome']>median_outcome]\n",
    "high_negotiators = high_negotiators.groupby('gender').count()\n",
    "\n",
    "from scipy.stats import chisquare\n",
    "chisquare_test = chisquare(high_negotiators['agent'])\n",
    "print(chisquare_test, '\\n')\n",
    "\n",
    "print(\"Once again, with a confidence interval of 0.95, because the p-value is higher than 0.05,\")\n",
    "print(\"we cannot say that the difference in gender is statistically significant when determining the outcome of the negotiation.\")"
   ]
  },
  {
   "cell_type": "markdown",
   "metadata": {},
   "source": [
    "[D, 2pt] /Discuss:/ In addition to the gender attribute, could you think of other measurable factors in this dataset that could be tested as confounders? List at least two more and explain why."
   ]
  },
  {
   "cell_type": "markdown",
   "metadata": {},
   "source": [
    "Two measurable factors that could be tested as confounders would be :\n",
    "- Age : an age gap between two negotiators could infer some hierarchical dynamic that could impact the outcome of the negotiation\n",
    "- Number of turns : a high number of turns could mean that the two negotiators had a lot of arguments and counter-arguments which could lead to an overall lower outcome for both of the negotiators. "
   ]
  },
  {
   "cell_type": "markdown",
   "metadata": {},
   "source": [
    "### Part 2: Insight Questions (15 pt)"
   ]
  },
  {
   "cell_type": "markdown",
   "metadata": {},
   "source": [
    "**2.1 (3pt)**\n",
    "In the context of analyzing negotiation turns, why would TF-IDF be more suitable than simple word frequency counts when trying to identify distinctive communication patterns between successful and unsuccessful negotiations?"
   ]
  },
  {
   "cell_type": "markdown",
   "metadata": {},
   "source": [
    "TF-IDF adjusts word importance by considering both the frequency of a term within a document and its rarity across the set of all documents. This helps capture the significance of words in the context of the entire dataset. In our case this is better than simple word frewuency counts as it also captures the impact of words in the entire negotiations dataset."
   ]
  },
  {
   "cell_type": "markdown",
   "metadata": {},
   "source": [
    "**2.2 (2pt)**\n",
    "How would you modify the standard TF-IDF implementation to account for the temporal nature of negotiation turns? Consider that early turns might be more important for setting the tone of the negotiation than later turns."
   ]
  },
  {
   "cell_type": "markdown",
   "metadata": {},
   "source": [
    "We could maybe increase the weight in the TF-IDF matrix of the words that are in the early turns compared to the ones in the later turns to give them more \"importance\".  "
   ]
  },
  {
   "cell_type": "markdown",
   "metadata": {},
   "source": [
    "**2.3 (3 pt)**\n",
    "In our negotiation dataset, successful negotiators might simply write longer messages. How could this create a misleading interpretation of our TF-IDF results, and what would be a simple way to test for this potential bias?"
   ]
  },
  {
   "cell_type": "markdown",
   "metadata": {},
   "source": [
    "This might lead to a TF-IDF matrix with more words than documents and cause overfitting. A simple way to test for this potential bias would be to get the average (or median if highly skewed) length of the messages of both successful and unsuccessful negotiators and compare them (for example using a chi-square test)."
   ]
  },
  {
   "cell_type": "markdown",
   "metadata": {},
   "source": [
    "**2.4 (3pt)**\n",
    "In our negotiation dataset, consider these two opening messages from different agents:\n",
    "\n",
    "Agent A: \"I propose we split the resources fairly\" Agent B: \"I suggest we divide the assets equitably\"\n",
    "\n",
    "These messages are semantically very similar but use different vocabulary. Explain:\n",
    "\n",
    "- a) How TF-IDF would process these messages differently\n",
    "- b) How word embeddings (like Word2Vec) would handle them\n",
    "- c) Why this distinction matters for negotiation analysis"
   ]
  },
  {
   "cell_type": "markdown",
   "metadata": {},
   "source": [
    "a) TF-IDF would compute the tf-idf values for each term and place them in the TF-IDF matrix. For these two documents, the tf-idf would be placed in different columns of the matrix as the words (features) are different. \n",
    "\n",
    "b) Word embedding would compute two different matrices (words and contexts) and by multiplying them assign each word to each context.\n",
    "\n",
    "c) This distinction matters as word embedding could be able to match these different words to the same context while TF-IDF would not be able to."
   ]
  },
  {
   "cell_type": "markdown",
   "metadata": {},
   "source": [
    "**2.5 (4pt)**\n",
    "Staying in the context of negotiations, explain why N-gram models such as bigrams might be more informative than unigrams for predicting negotiation outcomes. Provide two examples of bigrams that would be particularly meaningful in negotiation contexts but would lose their significance if split into unigrams."
   ]
  },
  {
   "cell_type": "markdown",
   "metadata": {},
   "source": [
    "Some bigrams could give us insight about the tone of the conversation or link different meaningful informations. For example the bigram \"trade for\" could link two items that are traded and lead to a successful negotiation. The bigram \"thank you\" could give us information on the \"politeness\" of the negotiation and this factor might impact the result of the negotiation."
   ]
  },
  {
   "cell_type": "markdown",
   "metadata": {},
   "source": [
    "## Task 2: Analysis of Co-Author Network (50 pts)"
   ]
  },
  {
   "cell_type": "markdown",
   "metadata": {},
   "source": [
    "\n",
    "In this part, you will analyze a reserach publication dataset derived from \n",
    "[social influence analysis in large-scale networks](https://keg.cs.tsinghua.edu.cn/jietang/publications/KDD09-Tang-et-al-Social-Influence-Analysis.pdf) (the paper itself is irrelevant to this exam, don't waste time reading it).\n",
    "\n",
    "The citation data is extracted from DBLP, ACM, MAG (Microsoft Academic Graph), and other sources. Each paper is associated with abstract, authors, year, venue, and title.\n",
    "\n",
    "Dataset: [citation dataset](https://cn.aminer.org/citation)\n",
    "\n",
    "Paper: [social influence analysis in large-scale networks](https://keg.cs.tsinghua.edu.cn/jietang/publications/KDD09-Tang-et-al-Social-Influence-Analysis.pdf)\n"
   ]
  },
  {
   "cell_type": "markdown",
   "metadata": {},
   "source": [
    "### Download data from the web\n",
    "\n",
    "#### For Linux and MacOS:\n",
    "```bash\n",
    "wget https://lfs.aminer.cn/lab-datasets/citation/citation-network1.zip\n",
    "unzip citation-network1.zip\n",
    "ls -l outputacm.txt\n",
    "```\n",
    "\n",
    "#### For windows we recommend using WSL (Windows Subsystem for Linux) with above commands or directly downloading the file from the browser at \n",
    "https://lfs.aminer.cn/lab-datasets/citation\n",
    "\n"
   ]
  },
  {
   "cell_type": "code",
   "execution_count": 1,
   "metadata": {},
   "outputs": [
    {
     "name": "stdout",
     "output_type": "stream",
     "text": [
      "Dataset loaded with 629814 entries.\n",
      "colums: Index(['title', 'authors', 'year', 'venue', 'references', 'abstract'], dtype='object')\n"
     ]
    }
   ],
   "source": [
    "import numpy as np\n",
    "import pandas as pd\n",
    "import scipy as sp\n",
    "import networkx as nx\n",
    "import matplotlib.pyplot as plt\n",
    "\n",
    "from helper import load_data_as_df\n",
    "\n",
    "\n",
    "# Define the file path\n",
    "file_path = \"outputacm.txt\"\n",
    "\n",
    "# Load the data into a DataFrame\n",
    "df = load_data_as_df(file_path)\n",
    "\n",
    "# check if the index column is the same as the index \n",
    "\n",
    "print(f\"Dataset loaded with {len(df)} entries.\")\n",
    "print(f\"colums: {df.columns}\")"
   ]
  },
  {
   "cell_type": "markdown",
   "metadata": {},
   "source": [
    "**3.1 (6 pts)**: Analyze Papers Published Per Year\n",
    "\n",
    "**Objective:**  \n",
    "Analyze and visualize publication trends to understand how the research field has evolved over time.\n",
    "\n",
    "#### Instructions:\n",
    "1. Group the data by the year of publication and count the number of papers for each year (2 pts).\n",
    "2. Plot a bar chart showing the number of papers published per year from **1990 to 2010**. (2 pts)\n",
    "3. Focus on the pattern between **1996 and 2004**:\n",
    "   - **Discuss:** Describe any notable trends or changes in the number of publications during this period. (2 pts)\n",
    "   - **Bonus:** Hypothesize potential reasons for the observed pattern.  (2 pts)\n",
    "     *Hint: Consider events or trends related to the dataset's focus on computer science.* \n"
   ]
  },
  {
   "cell_type": "code",
   "execution_count": 2,
   "metadata": {},
   "outputs": [
    {
     "data": {
      "image/png": "[encoded data removed]",
      "text/plain": [
       "<Figure size 640x480 with 1 Axes>"
      ]
     },
     "metadata": {},
     "output_type": "display_data"
    }
   ],
   "source": [
    "# TODO\n",
    "paper_per_year = df.groupby('year').count().reset_index()\n",
    "# print(\"Papers per year :\", paper_per_year)\n",
    "paper_per_year = paper_per_year[paper_per_year['year']<=2010]\n",
    "paper_per_year = paper_per_year[paper_per_year['year']>=1990]\n",
    "paper_per_year['year'] = paper_per_year['year'].astype(int)\n",
    "# display(paper_per_year)\n",
    "\n",
    "import seaborn as sns\n",
    "sns.barplot(paper_per_year, x='year', y='title')\n",
    "plt.xlabel('Year')\n",
    "plt.ylabel('Number of papers')\n",
    "plt.title('Number of papers published per year')\n",
    "plt.tick_params(axis='x', rotation=90)"
   ]
  },
  {
   "cell_type": "markdown",
   "metadata": {},
   "source": [
    "From 1996 to 2004, we see a clear increase of the number of papers published with a peak in 2000 that then goes down until 2004.\n",
    "This peak could be explained by the increasing interest in computer-science related fields (boom of the internet). And the fall after the year 2000 could maybe be related to the dot-com bubble."
   ]
  },
  {
   "cell_type": "markdown",
   "metadata": {},
   "source": [
    "**3.2 (4 pts)**: Authors Per Paper Analysis\n",
    "\n",
    "With the rise of interdisciplinary research, multi-authored papers are becoming more common. This task will help us understand collaboration dynamics in the academic world.\n",
    "\n",
    "#### Instructions:\n",
    "- Get the number of authors for each paper and calculate the percentage of papers with four or more authors. (2 pts)\n",
    "- Plot a histogram to show the frequency distribution of the number of authors per paper (2 pts)(choose `bins=range(0, 30)` and set y-axis to log scale)."
   ]
  },
  {
   "cell_type": "code",
   "execution_count": 3,
   "metadata": {},
   "outputs": [
    {
     "name": "stdout",
     "output_type": "stream",
     "text": [
      "Percentage of papers with at least 4 authors : 0.13173730656987617\n"
     ]
    },
    {
     "data": {
      "image/png": "[encoded data removed]",
      "text/plain": [
       "<Figure size 640x480 with 1 Axes>"
      ]
     },
     "metadata": {},
     "output_type": "display_data"
    }
   ],
   "source": [
    "# TODO\n",
    "df['author_num'] = df['authors'].apply(lambda x: len(x))\n",
    "authors_per_paper = df.groupby('author_num').count().reset_index()\n",
    "authors_4_more = authors_per_paper[authors_per_paper['author_num']>=4]['title'].sum()\n",
    "percentage = authors_4_more/authors_per_paper['title'].sum()\n",
    "print(\"Percentage of papers with at least 4 authors :\", percentage)\n",
    "\n",
    "# sns.histplot(df['authors_per_paper'], x='author_num', y='title')\n",
    "plt.hist(df['author_num'], bins=range(0,30))\n",
    "plt.yscale('log')\n",
    "plt.ylabel('Number of papers')\n",
    "plt.xlabel('Number of authors')\n",
    "plt.title(\"Number of papers per number of authors\")\n",
    "plt.show();"
   ]
  },
  {
   "cell_type": "markdown",
   "metadata": {},
   "source": [
    "**3.3 (4 pts)**: Temporal Collaboration Trends\n",
    "\n",
    "Collaboration dynamics can change over time. This task will help us understand how collaboration trends have evolved in the academic world.\n",
    "\n",
    "#### Instructions:\n",
    "- Group the data by publication year, calculate the average number of authors per paper for each year, and create a line plot to visualize how it has changed from 1990 to 2010 (1 pt).\n",
    "- **Discuss:** There has been a hypothesis that the number of authors per paper has increased over time. Based on the plot, do you agree with this hypothesis ? (1 pt)\n",
    "- Compute the P-value of the hypothesis that the average number of authors per paper after 2000 is significantly higher than before 2000. (2 pts)"
   ]
  },
  {
   "cell_type": "code",
   "execution_count": 4,
   "metadata": {},
   "outputs": [
    {
     "data": {
      "image/png": "[encoded data removed]",
      "text/plain": [
       "<Figure size 640x480 with 1 Axes>"
      ]
     },
     "metadata": {},
     "output_type": "display_data"
    }
   ],
   "source": [
    "# TODO\n",
    "avg_author_num = df.groupby('year').author_num.mean()\n",
    "plt.plot(avg_author_num[1990:2010].index.astype(int), avg_author_num[1990:2010].values, '-b')\n",
    "plt.xlabel('Year')\n",
    "plt.ylabel('Average number of authors per papers')\n",
    "plt.title('Average number of authors per papers vs year of publication')\n",
    "plt.show();"
   ]
  },
  {
   "cell_type": "code",
   "execution_count": 5,
   "metadata": {},
   "outputs": [
    {
     "name": "stdout",
     "output_type": "stream",
     "text": [
      "Power_divergenceResult(statistic=0.18665110268852486, pvalue=0.6657186152535375)\n"
     ]
    }
   ],
   "source": [
    "# Based on the plot, we can agree that there was indeed an increase of authors per paper from 1990 to 2010.\n",
    "\n",
    "avg_authors_before_2000 = avg_author_num[:2000].mean()\n",
    "avg_authors_after_2000 = avg_author_num[2001:].mean()\n",
    "\n",
    "from scipy.stats import chisquare\n",
    "\n",
    "test = chisquare([avg_authors_before_2000, avg_authors_after_2000])\n",
    "print(test)"
   ]
  },
  {
   "cell_type": "markdown",
   "metadata": {},
   "source": [
    "**3.4 (6 pts)**: Build a Co-Author Network\n",
    "\n",
    "Co-author networks help us visualize and quantify collaborations in academia. Such networks are critical for identifying influential researchers and their role in fostering connections within their communities. Construct a network where nodes represent authors and edges represent collaborations.\n",
    "\n",
    "#### Instructions:\n",
    "- Create a graph where: (5 pts)\n",
    "  - Nodes: Each node represents a unique author, identified by their name in the authors field of the dataset.\n",
    "  - Edges: There is an edge between two nodes if the corresponding authors have co-authored at least one paper. The weight of the edge represents the number of papers the two authors have co-authored together.\n",
    "- After constructing the network, print the following information: (1 pt)\n",
    "  - The total number of nodes (authors) in the network.\n",
    "  - The total number of edges (collaborations) in the network.\n",
    "\n",
    "Example:\n",
    "\n",
    "For a paper authored by [\"Alice\", \"Bob\", \"Charlie\"], the graph should include:\n",
    "- Nodes: Alice, Bob, Charlie.\n",
    "- Edges: Alice-Bob, Alice-Charlie, Bob-Charlie, each with a weight of 1 (assuming no other collaborations between these pairs).\n"
   ]
  },
  {
   "cell_type": "code",
   "execution_count": 11,
   "metadata": {},
   "outputs": [
    {
     "name": "stdout",
     "output_type": "stream",
     "text": [
      "Number of nodes : 595775\n",
      "Number of edges : 1137185\n"
     ]
    }
   ],
   "source": [
    "# TODO\n",
    "\n",
    "def find_unique_author(list, author_dict):\n",
    "    for author in list:\n",
    "        if author not in author_dict:\n",
    "            return author\n",
    "\n",
    "author_dict = {}\n",
    "author_dict = df['authors'].apply(lambda x: find_unique_author(x, author_dict))\n",
    "# print(len(author_dict))\n",
    "\n",
    "from itertools import combinations\n",
    "\n",
    "def find_edges(list, pair_counts):\n",
    "    pairs = combinations(sorted(list),2)\n",
    "    for pair in pairs:\n",
    "        if pair not in pair_counts:\n",
    "            pair_counts[pair]=0\n",
    "        pair_counts[pair] += 1\n",
    "\n",
    "pair_counts = {}\n",
    "edges = df['authors'].apply(lambda x: find_edges(x, pair_counts))\n",
    "# print(len(pair_counts))\n",
    "\n",
    "G = nx.Graph()\n",
    "\n",
    "# Add edges with weights\n",
    "for (char1, char2), weight in pair_counts.items():\n",
    "    G.add_edge(char1, char2, weight=weight)\n",
    "\n",
    "# Add nodes (if not already added by edges)\n",
    "for author in author_dict:\n",
    "    if author not in G:\n",
    "        G.add_node(author)\n",
    "\n",
    "print(\"Number of nodes :\", len(G.nodes))\n",
    "print(\"Number of edges :\", len(G.edges))"
   ]
  },
  {
   "cell_type": "markdown",
   "metadata": {},
   "source": [
    "**3.5 (4 pts)**: Analyze the Co-Author Network\n",
    "\n",
    "Connected components in a co-author network can reveal isolated research communities or dominant research hubs. Analyzing the largest component helps us understand the core of academic collaboration\n",
    "\n",
    "#### Instructions:\n",
    "- The degree of a node is the number of edges connected to it. In the context of the co-author network, this represents the number of distinct co-authors an author has collaborated with. Compute the average degree of the network (1 pt).\n",
    "- Connectivity of the Network:\n",
    "  - A network is fully connected if there is a path between every pair of nodes. Determine if the co-author network is fully connected (2 pt). (Hint: A single answer is not enough here. You need to use a method to verify the connectivity of the network.)\n",
    "  - Can you tell how many authors are part of the largest connected component? How much does this account for the total number of authors in the network? (2 pt)\n",
    "<!-- - Compute the average clustering coefficient of the network. -->"
   ]
  },
  {
   "cell_type": "code",
   "execution_count": 21,
   "metadata": {},
   "outputs": [
    {
     "name": "stdout",
     "output_type": "stream",
     "text": [
      "dict_items([(9, 31.01098618845808), (18, 29.4562893081761), (4, 31.66507626237338), (1, 56.05434241044584), (2, 32.30154507819276), (8, 28.08165215976572), (13, 32.970302375809936), (6, 31.276675466235204), (35, 28.24620811287478), (34, 28.10389903087672), (69, 31.817028985507246), (21, 28.138904389880953), (30, 27.086347517730495), (3, 33.44191504820684), (26, 26.57321594068582), (41, 35.97622334713913), (55, 23.761410018552876), (43, 30.04158454867954), (67, 36.63907734056988), (25, 32.474736842105266), (84, 38.33874458874459), (37, 33.20855614973262), (16, 31.399588289112533), (11, 25.861942257217848), (7, 27.88543975718719), (12, 30.811175961954174), (22, 29.383237974147065), (10, 29.230125638547563), (28, 32.53855250709555), (50, 28.243384615384617), (19, 32.70725607879348), (6343, 9.812391612801514), (27, 26.868471035137702), (5, 30.61840639519783), (14, 25.872864530427556), (98, 27.418367346938776), (142, 21.133802816901408), (62, 26.96157495256167), (51, 26.497385620915033), (65, 37.28923076923077), (57, 24.217365447517096), (23, 26.608444041867955), (79, 26.430379746835442), (17, 29.89798077504383), (31, 27.959368160624226), (52, 24.451923076923077), (20, 29.132716049382715), (36, 24.79042904290429), (127, 22.58267716535433), (132, 19.9375), (39, 24.189407814407815), (74, 30.9740990990991), (40, 30.851633986928103), (46, 29.43544809228039), (45, 36.17631027253669), (24, 29.99044772620722), (59, 18.943835161183117), (15, 27.876242377059814), (42, 29.41060985797828), (38, 31.30107047279215), (29, 26.027163661057873), (82, 30.426829268292682), (53, 26.589033018867923), (71, 35.76727028839705), (136, 27.985294117647058), (44, 32.20990391722099), (86, 33.17275747508306), (33, 24.289577388232097), (32, 28.875744047619047), (49, 32.96271101033006), (146, 34.41095890410959), (61, 34.81844262295082), (161, 24.732919254658384), (56, 19.16418650793651), (785, 21.996178343949044), (48, 34.003767730496456), (228, 18.32894736842105), (104, 20.64903846153846), (102, 33.46498599439776), (135, 17.796296296296298), (95, 27.470175438596492), (54, 25.023410202655487), (76, 22.525), (1340, 15.898507462686567), (110, 32.86363636363637), (122, 21.817622950819672), (47, 28.81395952257395), (58, 25.038566243194193), (60, 33.7505376344086), (91, 31.221611721611723), (78, 30.3), (114, 110.09286146400484), (137, 28.060827250608273), (87, 36.43333333333333), (89, 26.2334581772784), (63, 31.399092970521544), (64, 28.947580645161292), (80, 24.572222222222223), (73, 25.791542584871948), (81, 31.753086419753085), (68, 28.224945533769063), (162, 17.425925925925927), (116, 78.27586206896552), (85, 34.262443438914026), (92, 11.380434782608695), (121, 19.46694214876033), (97, 17.97938144329897), (158, 19.86392405063291), (189, 26.264550264550266), (316, 22.015822784810126), (77, 30.793206793206792), (107, 21.899532710280372), (150, 25.04), (93, 35.44086021505376), (96, 70.30902777777777), (170, 61.05294117647059), (113, 17.78466076696165), (197, 19.370558375634516), (66, 25.126984126984127), (103, 37.9500693481276), (105, 40.08888888888889), (111, 39.72072072072072), (100, 15.51), (72, 20.340608465608465), (83, 30.783132530120483), (70, 38.46326530612245), (90, 20.66031746031746), (119, 71.74789915966386), (117, 38.287749287749286), (188, 48.755319148936174), (118, 20.588983050847457), (112, 11.107142857142858), (120, 14.119444444444444), (183, 37.58469945355191), (75, 28.057391304347828), (129, 16.87984496124031), (133, 36.66541353383459), (171, 16.690058479532162), (141, 42.58510638297872), (143, 21.293706293706293), (101, 26.667326732673267), (106, 18.09433962264151), (159, 66.62893081761007), (125, 30.568), (148, 20.486486486486488), (166, 27.367469879518072), (151, 24.450331125827816), (175, 19.068571428571428), (88, 30.323863636363637), (144, 28.677083333333332), (181, 27.723756906077348), (174, 23.43103448275862), (128, 28.265625), (108, 43.754629629629626), (109, 16.46788990825688), (193, 32.917098445595855), (203, 20.586206896551722), (94, 26.607712765957448), (99, 31.124579124579125), (242, 25.173553719008265), (134, 17.559701492537314), (123, 20.772357723577237), (124, 14.919354838709678), (140, 63.67142857142857), (131, 21.18702290076336), (167, 67.02994011976048), (115, 113.07826086956521), (0, 0)])\n",
      "Is the graph complete? False\n",
      "Authors part of largest connected component : 342738\n"
     ]
    }
   ],
   "source": [
    "# TODO\n",
    "average_degree = nx.average_degree_connectivity(G)\n",
    "print(average_degree.items())\n",
    "\n",
    "# An undirected complete graph has n*(n-1)/2 edges so we compare the number of edges of our graph with a complete graph\n",
    "n = G.number_of_nodes()\n",
    "expected_edges = n * (n - 1)  # For directed graph: total possible edges\n",
    "if not G.is_directed():\n",
    "    expected_edges //= 2  # For undirected graph\n",
    "\n",
    "is_complete = G.number_of_edges() == expected_edges\n",
    "print(f\"Is the graph complete? {is_complete}\")\n",
    "\n",
    "largest_scc = max(nx.connected_components(G), key=len)\n",
    "H = G.subgraph(list(largest_scc))\n",
    "print(\"Authors part of largest connected component :\", len(H.nodes))"
   ]
  },
  {
   "cell_type": "markdown",
   "metadata": {},
   "source": [
    "**3.6 (4 pts)**: Top Authors by Collaborations\n",
    "\n",
    "#### Instructions:\n",
    "- Get the degree for all nodes in the network and print the top 10 authors by degree (1 pt) (Note: some entries (e.g., \"II,\" \"III,\" \"Jr.\") may not represent real authors due to data quality issues. Please keep them in the list and don't do any cleaning.)\n",
    "- A high degree  indicates that an author has collaborated with many other authors. However, it does not consider if the collaborations happen multiple times between the same authors. A weighted degree would be a better measure to consider the number of collaborations between authors. Get the top 10 authors by weighted degree. P.S. The weighted degree is the sum of the weights of the edges connected to the node. (1 pt)\n",
    "- Which two authors have the highest number of collaborations? How many papers have they co-authored together? (2 pt)"
   ]
  },
  {
   "cell_type": "code",
   "execution_count": 41,
   "metadata": {},
   "outputs": [
    {
     "name": "stdout",
     "output_type": "stream",
     "text": [
      "168\n"
     ]
    },
    {
     "data": {
      "text/plain": [
       "[(115, 113.07826086956521),\n",
       " (114, 110.09286146400484),\n",
       " (116, 78.27586206896552),\n",
       " (119, 71.74789915966386),\n",
       " (96, 70.30902777777777),\n",
       " (167, 67.02994011976048),\n",
       " (159, 66.62893081761007),\n",
       " (140, 63.67142857142857),\n",
       " (170, 61.05294117647059),\n",
       " (1, 56.05434241044584)]"
      ]
     },
     "execution_count": 41,
     "metadata": {},
     "output_type": "execute_result"
    }
   ],
   "source": [
    "# TODO\n",
    "import heapq\n",
    "\n",
    "average_degree = nx.average_degree_connectivity(G)\n",
    "print(len(average_degree))\n",
    "highest_degrees = heapq.nlargest(10, average_degree.items(), key=lambda i: i[1])\n",
    "highest_degrees"
   ]
  },
  {
   "cell_type": "code",
   "execution_count": 35,
   "metadata": {},
   "outputs": [
    {
     "name": "stdout",
     "output_type": "stream",
     "text": [
      "Ten authors with highest degree : ['Trinh Anh Tuan', 'Shelley Gaskin', 'Jim Krause', 'Debasish Jana', 'Alexander Gelbukh', 'Daniel Amyot', 'Boaz Livny', 'Nigel Goldman', 'Jeffrey P. Fisher', 'Charles J. Brooks']\n"
     ]
    }
   ],
   "source": [
    "author_list = []\n",
    "for i in range(10):\n",
    "    author_idx = highest_degrees[i][0]\n",
    "    author_list.append(author_dict[author_idx])\n",
    "print(\"Ten authors with highest degree :\", author_list)\n"
   ]
  },
  {
   "cell_type": "code",
   "execution_count": 38,
   "metadata": {},
   "outputs": [
    {
     "ename": "AttributeError",
     "evalue": "'DegreeView' object has no attribute 'items'",
     "output_type": "error",
     "traceback": [
      "\u001b[1;31m---------------------------------------------------------------------------\u001b[0m",
      "\u001b[1;31mAttributeError\u001b[0m                            Traceback (most recent call last)",
      "\u001b[1;32m~\\AppData\\Local\\Temp/ipykernel_27356/1984068504.py\u001b[0m in \u001b[0;36m<module>\u001b[1;34m\u001b[0m\n\u001b[1;32m----> 1\u001b[1;33m \u001b[0mtwo_highest\u001b[0m \u001b[1;33m=\u001b[0m \u001b[0mheapq\u001b[0m\u001b[1;33m.\u001b[0m\u001b[0mnlargest\u001b[0m\u001b[1;33m(\u001b[0m\u001b[1;36m2\u001b[0m\u001b[1;33m,\u001b[0m \u001b[0mdegrees\u001b[0m\u001b[1;33m.\u001b[0m\u001b[0mitems\u001b[0m\u001b[1;33m(\u001b[0m\u001b[1;33m)\u001b[0m\u001b[1;33m,\u001b[0m \u001b[0mkey\u001b[0m\u001b[1;33m=\u001b[0m\u001b[1;32mlambda\u001b[0m \u001b[0mi\u001b[0m\u001b[1;33m:\u001b[0m \u001b[0mi\u001b[0m\u001b[1;33m[\u001b[0m\u001b[1;36m2\u001b[0m\u001b[1;33m]\u001b[0m\u001b[1;33m)\u001b[0m\u001b[1;33m\u001b[0m\u001b[1;33m\u001b[0m\u001b[0m\n\u001b[0m\u001b[0;32m      2\u001b[0m \u001b[0mtwo_highest\u001b[0m\u001b[1;33m\u001b[0m\u001b[1;33m\u001b[0m\u001b[0m\n",
      "\u001b[1;31mAttributeError\u001b[0m: 'DegreeView' object has no attribute 'items'"
     ]
    }
   ],
   "source": [
    "two_highest = heapq.nlargest(2, degrees.items(), key=lambda i: i[2])\n",
    "two_highest"
   ]
  },
  {
   "cell_type": "markdown",
   "metadata": {},
   "source": [
    "**3.7 (4 pts)**: Analyze the reference/citation information \n",
    "\n",
    "Understanding the citation patterns of papers helps reveal their academic impact and how knowledge propagates through the research community. In this task, you will analyze the reference and citation relationships within the dataset.\n",
    "\n",
    "First, let's create a citation network where:\n",
    "- Nodes: Each node represents a unique paper, identified by its id in the dataset.\n",
    "- Edges: There is an edge from paper A to paper B if paper A cites paper B. \n",
    "\n",
    "\n",
    "#### Instructions:\n",
    "- **Discuss:** Is it reasonable that the citation network contains cycles?  What would a cycle( not self loop) in the citation network represent? (2 pt)\n",
    "- Which paper has the highest number of citations? How many papers cite this paper? (1 pt)\n",
    "- Which paper has the highest number of references? How many papers does this paper cite? (1 pt)\n"
   ]
  },
  {
   "cell_type": "code",
   "execution_count": null,
   "metadata": {},
   "outputs": [],
   "source": [
    "# TODO"
   ]
  },
  {
   "cell_type": "markdown",
   "metadata": {},
   "source": [
    "**3.8 (3 pts)**: Analyze the Citation Distribution \n",
    "\n",
    "The citation distribution of papers can provide insights into the impact of research publications. In this task, you will analyze the citation distribution in the dataset.\n",
    "\n",
    "<!-- - Plot the number of papers having a certain level of citation x (x-axis) against x (y-axis) in a log-log scale. -->\n",
    "- Create a frequency distribution where the x-axis represents the number of citations and the y-axis represents the number of papers that have that number of citations. Plot two scatters plot of the frequency distribution first in a normal scale and second in a log-log scale. (2 pts)\n",
    "- **Discuss**: What does the plot suggest about the citation distribution in the dataset? (1 pt)"
   ]
  },
  {
   "cell_type": "code",
   "execution_count": null,
   "metadata": {},
   "outputs": [],
   "source": [
    "# TODO"
   ]
  },
  {
   "cell_type": "markdown",
   "metadata": {},
   "source": [
    "**3.9 (3 pts)**: Central Tendency of Citation Distribution\n",
    "\n",
    "**Discuss:**: There are different ways to describe the central tendency of a citation distribution., such as mean. Determine the measure you think best represents the dataset and explain your reasoning. (Hint: Consider the distribution of the citation data above)\n"
   ]
  },
  {
   "cell_type": "code",
   "execution_count": null,
   "metadata": {},
   "outputs": [],
   "source": [
    "# TODO"
   ]
  },
  {
   "cell_type": "markdown",
   "metadata": {},
   "source": [
    "**3.10 (2pts)**: Network Centrality Measures\n",
    "\n",
    "PageRank is a measure of influence based on link structure. Applying it to citations allows us to rank papers by their academic importance\n",
    "\n",
    "#### Instructions:\n",
    "- You are tasked with curating the 'Top 10 Influential Papers' from this dataset. Use PageRank to justify your selection and display the top 10 papers titles by page rank. (2 pts)\n",
    "- **bonus**: Identify patterns among the top-ranked papers. (2 pts)\n"
   ]
  },
  {
   "cell_type": "code",
   "execution_count": null,
   "metadata": {},
   "outputs": [],
   "source": [
    "# TODO"
   ]
  },
  {
   "cell_type": "markdown",
   "metadata": {},
   "source": [
    "**3.11 (5 pts)**: Bridge Papers\n",
    "\n",
    "Bridge papers are those that connect different research communities. They are essential for fostering interdisciplinary research and knowledge transfer. \n",
    "\n",
    "#### Instructions: \n",
    "- Build a small citation network that only includes papers published in 2005. (2 pts)\n",
    "- Which measurement can help us identify bridge papers in a citation network?  (2 pt)\n",
    "- Try to find top10 bridge papers in the dataset. By looking at their titles, can you identify the research communities they connect? (Pick 2 papers) (1 pt)\n",
    "\n"
   ]
  },
  {
   "cell_type": "code",
   "execution_count": null,
   "metadata": {},
   "outputs": [],
   "source": [
    "# TODO"
   ]
  },
  {
   "cell_type": "markdown",
   "metadata": {},
   "source": [
    "**3.12 (5 pts)**: Author-Citation Network\n",
    "\n",
    "In the previous tasks, we analyzed the co-author network and paper-citation network. In this task, we will analyze the author-citation network, where:\n",
    "- Nodes: Each node represents a unique author, identified by their name in the authors field of the dataset.\n",
    "- Edges: There is an edge from author A to author B if author A cites a paper authored by author B. \n",
    "- The weight of the edge represents the total number of citations from author A to author B.\n",
    "\n",
    "#### Instructions:\n",
    "- Given that we have a Author-Paper Matrix $A$ where each row represents an paper and each column represents an author. The value in the matrix is 1 if the author has contributed to the paper, 0 otherwise. And we also have a Paper-Paper citation matrix $P$ (square matrix) where the value at coordinates (i, j) is 1 if paper j cites paper i, 0 otherwise.\n",
    "- How can you get a Author-Author citation matrix from the above two matrices by matrix multiplication? (You don't need to implement this, just give the formula) (2 pts)\n",
    "- Author A may have never cited author B, but author A might have cited a few papers which cited works by author B. This can be seen as a 2nd degree citation.  More formally, a 2nd degree citation matrix $C_2$ has at each cell (i, j) the number 2nd degree citations from author i to author j. How can you get a 2nd degree citation matrix from the Author-Paper Matrix $A$ and Paper-Paper citation matrix $P$? (You don't need to implement this, just give the formula) (2 pts)\n",
    "- Can you generalize this to nth degree citation matrix? (1 pt)"
   ]
  },
  {
   "cell_type": "code",
   "execution_count": null,
   "metadata": {},
   "outputs": [],
   "source": [
    "# TODO"
   ]
  }
 ],
 "metadata": {
  "kernelspec": {
   "display_name": "adaexam",
   "language": "python",
   "name": "python3"
  },
  "language_info": {
   "codemirror_mode": {
    "name": "ipython",
    "version": 3
   },
   "file_extension": ".py",
   "mimetype": "text/x-python",
   "name": "python",
   "nbconvert_exporter": "python",
   "pygments_lexer": "ipython3",
   "version": "3.9.7"
  }
 },
 "nbformat": 4,
 "nbformat_minor": 4
}
