{
 "cells": [
  {
   "cell_type": "code",
   "execution_count": 1,
   "metadata": {
    "tags": []
   },
   "outputs": [],
   "source": [
    "import numpy as np\n",
    "import pandas as pd\n",
    "import matplotlib.pyplot as plt\n",
    "%matplotlib inline\n",
    "from sklearn.linear_model import LogisticRegressionCV\n",
    "from sklearn.decomposition import TruncatedSVD\n",
    "from sklearn.feature_extraction.text import TfidfVectorizer\n",
    "from helpers.helper_functions import *"
   ]
  },
  {
   "cell_type": "markdown",
   "metadata": {},
   "source": [
    "# Handling text 2 exercise\n",
    "[Handling text exercisses ADApted drom ADA 2018 final exam]\n",
    "\n",
    "The Sheldon Cooper we all know and love (OK, some of us might not know him, and some might not love him) from the TV series \"The Big Bang Theory\" has gotten into an argument with Leonard from the same TV show. Sheldon insists that he knows the show better than anyone, and keeps making various claims about the show, which neither of them know how to prove or disprove. The two of them have reached out to you ladies and gentlemen, as data scientists, to help them. You will be given the full script of the series, with information on the episode, the scene, the person saying each dialogue line, and the dialogue lines themselves.\n",
    "\n",
    "Leonard has challenged several of Sheldon's claims about the show, and throughout this exam you will see some of those and you will get to prove or disprove them, but remember: sometimes, we can neither prove a claim, nor disprove it!"
   ]
  },
  {
   "cell_type": "markdown",
   "metadata": {},
   "source": [
    "## Task A: Picking up the shovel\n",
    "\n",
    "**Note: You will use the data you preprocess in this task in all the subsequent ones.**\n",
    "\n",
    "Our friends' argument concerns the entire show. We have given you a file in the `data/` folder that contains the script of every single episode. New episodes are indicated by '>>', new scenes by '>', and the rest of the lines are dialogue lines. Some lines are said by multiple people (for example, lines indicated by 'All' or 'Together'); **you must discard these lines**, for the sake of simplicity. However, you do not need to do it for Q1 in this task -- you'll take care of it when you solve Q2.\n",
    "\n",
    "**Q1**. Your first task is to extract all lines of dialogue in each scene and episode, creating a dataframe where each row has the episode and scene where a dialogue line was said, the character who said it, and the line itself. You do not need to extract the proper name of the episode (e.g. episode 1 can appear as \"Series 01 Episode 01 - Pilot Episode\", and doesn't need to appear as \"Pilot Episode\"). Then, answer the following question: In total, how many scenes are there in each season? We're not asking about unique scenes; the same location appearing in two episodes counts as two scenes. You can use a Pandas dataframe with a season column and a scene count column as the response.\n",
    "\n",
    "**Note: The data refers to seasons as \"series\".**"
   ]
  },
  {
   "cell_type": "code",
   "execution_count": 73,
   "metadata": {},
   "outputs": [
    {
     "data": {
      "text/html": [
       "<div>\n",
       "<style scoped>\n",
       "    .dataframe tbody tr th:only-of-type {\n",
       "        vertical-align: middle;\n",
       "    }\n",
       "\n",
       "    .dataframe tbody tr th {\n",
       "        vertical-align: top;\n",
       "    }\n",
       "\n",
       "    .dataframe thead th {\n",
       "        text-align: right;\n",
       "    }\n",
       "</style>\n",
       "<table border=\"1\" class=\"dataframe\">\n",
       "  <thead>\n",
       "    <tr style=\"text-align: right;\">\n",
       "      <th></th>\n",
       "      <th>Season</th>\n",
       "      <th>Episode</th>\n",
       "      <th>Scene</th>\n",
       "      <th>Character</th>\n",
       "      <th>Line</th>\n",
       "    </tr>\n",
       "  </thead>\n",
       "  <tbody>\n",
       "    <tr>\n",
       "      <th>0</th>\n",
       "      <td>1</td>\n",
       "      <td>Series 01 Episode 01 – Pilot Episode</td>\n",
       "      <td>A corridor at a sperm bank.</td>\n",
       "      <td>Sheldon</td>\n",
       "      <td>So if a photon is directed through a plane wit...</td>\n",
       "    </tr>\n",
       "    <tr>\n",
       "      <th>1</th>\n",
       "      <td>1</td>\n",
       "      <td>Series 01 Episode 01 – Pilot Episode</td>\n",
       "      <td>A corridor at a sperm bank.</td>\n",
       "      <td>Leonard</td>\n",
       "      <td>Agreed, what’s your point?</td>\n",
       "    </tr>\n",
       "    <tr>\n",
       "      <th>2</th>\n",
       "      <td>1</td>\n",
       "      <td>Series 01 Episode 01 – Pilot Episode</td>\n",
       "      <td>A corridor at a sperm bank.</td>\n",
       "      <td>Sheldon</td>\n",
       "      <td>There’s no point, I just think it’s a good ide...</td>\n",
       "    </tr>\n",
       "    <tr>\n",
       "      <th>3</th>\n",
       "      <td>1</td>\n",
       "      <td>Series 01 Episode 01 – Pilot Episode</td>\n",
       "      <td>A corridor at a sperm bank.</td>\n",
       "      <td>Leonard</td>\n",
       "      <td>Excuse me?</td>\n",
       "    </tr>\n",
       "    <tr>\n",
       "      <th>4</th>\n",
       "      <td>1</td>\n",
       "      <td>Series 01 Episode 01 – Pilot Episode</td>\n",
       "      <td>A corridor at a sperm bank.</td>\n",
       "      <td>Receptionist</td>\n",
       "      <td>Hang on.</td>\n",
       "    </tr>\n",
       "  </tbody>\n",
       "</table>\n",
       "</div>"
      ],
      "text/plain": [
       "   Season                               Episode                        Scene  \\\n",
       "0       1  Series 01 Episode 01 – Pilot Episode  A corridor at a sperm bank.   \n",
       "1       1  Series 01 Episode 01 – Pilot Episode  A corridor at a sperm bank.   \n",
       "2       1  Series 01 Episode 01 – Pilot Episode  A corridor at a sperm bank.   \n",
       "3       1  Series 01 Episode 01 – Pilot Episode  A corridor at a sperm bank.   \n",
       "4       1  Series 01 Episode 01 – Pilot Episode  A corridor at a sperm bank.   \n",
       "\n",
       "      Character                                               Line  \n",
       "0       Sheldon  So if a photon is directed through a plane wit...  \n",
       "1       Leonard                         Agreed, what’s your point?  \n",
       "2       Sheldon  There’s no point, I just think it’s a good ide...  \n",
       "3       Leonard                                         Excuse me?  \n",
       "4  Receptionist                                           Hang on.  "
      ]
     },
     "execution_count": 73,
     "metadata": {},
     "output_type": "execute_result"
    }
   ],
   "source": [
    "season = \"\"\n",
    "episode = \"\"\n",
    "scene = \"\"\n",
    "data = []\n",
    "with open(\"data/all_scripts.txt\") as f:\n",
    "    for line in f.readlines():\n",
    "        line = line[:-1]\n",
    "        if line.startswith(\">> \"):\n",
    "            season = int(line[10:12])\n",
    "            episode = line[3:]\n",
    "            continue\n",
    "        if line.startswith(\"> \"):\n",
    "            scene = line[2:]\n",
    "            continue\n",
    "        character, line = line.split(\": \", 1)\n",
    "        data.append([season, episode, scene, character, line])\n",
    "lines = pd.DataFrame(data, columns=[\"Season\", \"Episode\", \"Scene\", \"Character\", \"Line\"])\n",
    "\n",
    "lines.head()"
   ]
  },
  {
   "cell_type": "code",
   "execution_count": 74,
   "metadata": {},
   "outputs": [
    {
     "name": "stdout",
     "output_type": "stream",
     "text": [
      "Number of scenes per season :\n"
     ]
    },
    {
     "data": {
      "text/html": [
       "<div>\n",
       "<style scoped>\n",
       "    .dataframe tbody tr th:only-of-type {\n",
       "        vertical-align: middle;\n",
       "    }\n",
       "\n",
       "    .dataframe tbody tr th {\n",
       "        vertical-align: top;\n",
       "    }\n",
       "\n",
       "    .dataframe thead th {\n",
       "        text-align: right;\n",
       "    }\n",
       "</style>\n",
       "<table border=\"1\" class=\"dataframe\">\n",
       "  <thead>\n",
       "    <tr style=\"text-align: right;\">\n",
       "      <th></th>\n",
       "      <th>Scene</th>\n",
       "    </tr>\n",
       "    <tr>\n",
       "      <th>Season</th>\n",
       "      <th></th>\n",
       "    </tr>\n",
       "  </thead>\n",
       "  <tbody>\n",
       "    <tr>\n",
       "      <th>1</th>\n",
       "      <td>157</td>\n",
       "    </tr>\n",
       "    <tr>\n",
       "      <th>2</th>\n",
       "      <td>205</td>\n",
       "    </tr>\n",
       "    <tr>\n",
       "      <th>3</th>\n",
       "      <td>193</td>\n",
       "    </tr>\n",
       "    <tr>\n",
       "      <th>4</th>\n",
       "      <td>219</td>\n",
       "    </tr>\n",
       "    <tr>\n",
       "      <th>5</th>\n",
       "      <td>198</td>\n",
       "    </tr>\n",
       "    <tr>\n",
       "      <th>6</th>\n",
       "      <td>211</td>\n",
       "    </tr>\n",
       "    <tr>\n",
       "      <th>7</th>\n",
       "      <td>207</td>\n",
       "    </tr>\n",
       "    <tr>\n",
       "      <th>8</th>\n",
       "      <td>191</td>\n",
       "    </tr>\n",
       "    <tr>\n",
       "      <th>9</th>\n",
       "      <td>177</td>\n",
       "    </tr>\n",
       "    <tr>\n",
       "      <th>10</th>\n",
       "      <td>189</td>\n",
       "    </tr>\n",
       "  </tbody>\n",
       "</table>\n",
       "</div>"
      ],
      "text/plain": [
       "        Scene\n",
       "Season       \n",
       "1         157\n",
       "2         205\n",
       "3         193\n",
       "4         219\n",
       "5         198\n",
       "6         211\n",
       "7         207\n",
       "8         191\n",
       "9         177\n",
       "10        189"
      ]
     },
     "metadata": {},
     "output_type": "display_data"
    }
   ],
   "source": [
    "print(\"Number of scenes per season :\")\n",
    "display(lines.groupby([\"Season\", \"Episode\", \"Scene\"]).count().reset_index().groupby(\"Season\").count()[[\"Scene\"]])"
   ]
  },
  {
   "cell_type": "markdown",
   "metadata": {},
   "source": [
    "**Q2**. Now, let's define two sets of characters: all the characters, and recurrent characters. Recurrent characters are those who appear in more than one episode. For the subsequent sections, you will need to have a list of recurrent characters. Assume that there are no two _named characters_ (i.e. characters who have actual names and aren't referred to generically as \"little girl\", \"grumpy grandpa\", etc.) with the same name, i.e. there are no two Sheldons, etc. Generate a list of recurrent characters who have more than 90 dialogue lines in total, and then take a look at the list you have. If you've done this correctly, you should have a list of 20 names. However, one of these is clearly not a recurrent character. Manually remove that one, and print out your list of recurrent characters. To remove that character, pay attention to the _named character_ assumption we gave you earlier on. **For all the subsequent questions, you must only keep the dialogue lines said by the recurrent characters in your list.**"
   ]
  },
  {
   "cell_type": "code",
   "execution_count": 77,
   "metadata": {},
   "outputs": [
    {
     "data": {
      "text/html": [
       "<div>\n",
       "<style scoped>\n",
       "    .dataframe tbody tr th:only-of-type {\n",
       "        vertical-align: middle;\n",
       "    }\n",
       "\n",
       "    .dataframe tbody tr th {\n",
       "        vertical-align: top;\n",
       "    }\n",
       "\n",
       "    .dataframe thead th {\n",
       "        text-align: right;\n",
       "    }\n",
       "</style>\n",
       "<table border=\"1\" class=\"dataframe\">\n",
       "  <thead>\n",
       "    <tr style=\"text-align: right;\">\n",
       "      <th></th>\n",
       "      <th>Character</th>\n",
       "      <th>Season</th>\n",
       "      <th>Episode</th>\n",
       "      <th>Scene</th>\n",
       "      <th>Line</th>\n",
       "      <th>Words</th>\n",
       "    </tr>\n",
       "  </thead>\n",
       "  <tbody>\n",
       "    <tr>\n",
       "      <th>0</th>\n",
       "      <td>Amy</td>\n",
       "      <td>3</td>\n",
       "      <td>Series 03 Episode 23 – The Lunar Excitation</td>\n",
       "      <td>A coffee shop.</td>\n",
       "      <td>Excuse me. I’m Amy Farrah Fowler. You’re Sheld...</td>\n",
       "      <td>9</td>\n",
       "    </tr>\n",
       "    <tr>\n",
       "      <th>1</th>\n",
       "      <td>Amy</td>\n",
       "      <td>3</td>\n",
       "      <td>Series 03 Episode 23 – The Lunar Excitation</td>\n",
       "      <td>A coffee shop.</td>\n",
       "      <td>If that was slang, I’m unfamiliar with it. If ...</td>\n",
       "      <td>40</td>\n",
       "    </tr>\n",
       "    <tr>\n",
       "      <th>2</th>\n",
       "      <td>Amy</td>\n",
       "      <td>3</td>\n",
       "      <td>Series 03 Episode 23 – The Lunar Excitation</td>\n",
       "      <td>A coffee shop.</td>\n",
       "      <td>I don’t object to the concept of a deity, but ...</td>\n",
       "      <td>20</td>\n",
       "    </tr>\n",
       "    <tr>\n",
       "      <th>3</th>\n",
       "      <td>Amy</td>\n",
       "      <td>3</td>\n",
       "      <td>Series 03 Episode 23 – The Lunar Excitation</td>\n",
       "      <td>A coffee shop.</td>\n",
       "      <td>Noted. Now, before this goes any further, you ...</td>\n",
       "      <td>25</td>\n",
       "    </tr>\n",
       "    <tr>\n",
       "      <th>4</th>\n",
       "      <td>Amy</td>\n",
       "      <td>3</td>\n",
       "      <td>Series 03 Episode 23 – The Lunar Excitation</td>\n",
       "      <td>A coffee shop.</td>\n",
       "      <td>Tepid water, please.</td>\n",
       "      <td>3</td>\n",
       "    </tr>\n",
       "    <tr>\n",
       "      <th>...</th>\n",
       "      <td>...</td>\n",
       "      <td>...</td>\n",
       "      <td>...</td>\n",
       "      <td>...</td>\n",
       "      <td>...</td>\n",
       "      <td>...</td>\n",
       "    </tr>\n",
       "    <tr>\n",
       "      <th>48341</th>\n",
       "      <td>Zack</td>\n",
       "      <td>10</td>\n",
       "      <td>Series 10 Episode 22 – The Cognition Regeneration</td>\n",
       "      <td>The restaurant.</td>\n",
       "      <td>You know, we’d make a great team. Or as we say...</td>\n",
       "      <td>23</td>\n",
       "    </tr>\n",
       "    <tr>\n",
       "      <th>48342</th>\n",
       "      <td>Zack</td>\n",
       "      <td>10</td>\n",
       "      <td>Series 10 Episode 22 – The Cognition Regeneration</td>\n",
       "      <td>The restaurant.</td>\n",
       "      <td>Yeah, right? It’s funny. I got a lot of menu j...</td>\n",
       "      <td>15</td>\n",
       "    </tr>\n",
       "    <tr>\n",
       "      <th>48343</th>\n",
       "      <td>Zack</td>\n",
       "      <td>10</td>\n",
       "      <td>Series 10 Episode 22 – The Cognition Regeneration</td>\n",
       "      <td>The apartment.</td>\n",
       "      <td>Penny, what’s up?</td>\n",
       "      <td>3</td>\n",
       "    </tr>\n",
       "    <tr>\n",
       "      <th>48344</th>\n",
       "      <td>Zack</td>\n",
       "      <td>10</td>\n",
       "      <td>Series 10 Episode 22 – The Cognition Regeneration</td>\n",
       "      <td>The apartment.</td>\n",
       "      <td>Oh, bad news. When my fiancée found out that I...</td>\n",
       "      <td>30</td>\n",
       "    </tr>\n",
       "    <tr>\n",
       "      <th>48345</th>\n",
       "      <td>Zack</td>\n",
       "      <td>10</td>\n",
       "      <td>Series 10 Episode 22 – The Cognition Regeneration</td>\n",
       "      <td>The apartment.</td>\n",
       "      <td>Nope, just a little bump on my forehead.</td>\n",
       "      <td>8</td>\n",
       "    </tr>\n",
       "  </tbody>\n",
       "</table>\n",
       "<p>48346 rows × 6 columns</p>\n",
       "</div>"
      ],
      "text/plain": [
       "      Character  Season                                            Episode  \\\n",
       "0           Amy       3        Series 03 Episode 23 – The Lunar Excitation   \n",
       "1           Amy       3        Series 03 Episode 23 – The Lunar Excitation   \n",
       "2           Amy       3        Series 03 Episode 23 – The Lunar Excitation   \n",
       "3           Amy       3        Series 03 Episode 23 – The Lunar Excitation   \n",
       "4           Amy       3        Series 03 Episode 23 – The Lunar Excitation   \n",
       "...         ...     ...                                                ...   \n",
       "48341      Zack      10  Series 10 Episode 22 – The Cognition Regeneration   \n",
       "48342      Zack      10  Series 10 Episode 22 – The Cognition Regeneration   \n",
       "48343      Zack      10  Series 10 Episode 22 – The Cognition Regeneration   \n",
       "48344      Zack      10  Series 10 Episode 22 – The Cognition Regeneration   \n",
       "48345      Zack      10  Series 10 Episode 22 – The Cognition Regeneration   \n",
       "\n",
       "                 Scene                                               Line  \\\n",
       "0       A coffee shop.  Excuse me. I’m Amy Farrah Fowler. You’re Sheld...   \n",
       "1       A coffee shop.  If that was slang, I’m unfamiliar with it. If ...   \n",
       "2       A coffee shop.  I don’t object to the concept of a deity, but ...   \n",
       "3       A coffee shop.  Noted. Now, before this goes any further, you ...   \n",
       "4       A coffee shop.                               Tepid water, please.   \n",
       "...                ...                                                ...   \n",
       "48341  The restaurant.  You know, we’d make a great team. Or as we say...   \n",
       "48342  The restaurant.  Yeah, right? It’s funny. I got a lot of menu j...   \n",
       "48343   The apartment.                                  Penny, what’s up?   \n",
       "48344   The apartment.  Oh, bad news. When my fiancée found out that I...   \n",
       "48345   The apartment.           Nope, just a little bump on my forehead.   \n",
       "\n",
       "       Words  \n",
       "0          9  \n",
       "1         40  \n",
       "2         20  \n",
       "3         25  \n",
       "4          3  \n",
       "...      ...  \n",
       "48341     23  \n",
       "48342     15  \n",
       "48343      3  \n",
       "48344     30  \n",
       "48345      8  \n",
       "\n",
       "[48346 rows x 6 columns]"
      ]
     },
     "execution_count": 111,
     "metadata": {},
     "output_type": "execute_result"
    }
   ],
   "source": [
    "# Find all the characters\n",
    "all_characters = lines.groupby([\"Character\"]).count()\n",
    "\n",
    "# Only keep the characters with more than 90 appearances\n",
    "recurrent_char = []\n",
    "for character in all_characters.index:\n",
    "    if all_characters.loc[character].Episode > 90:\n",
    "        recurrent_char.append(character)\n",
    "\n",
    "# Convert to pandas dataframe\n",
    "recurrent_char_df = pd.DataFrame({'Character':recurrent_char})\n",
    "# Remove the character \"Man\"\n",
    "recurrent_char_df = recurrent_char_df.drop([10])\n",
    "recurr_char_df = recurrent_char_df\n",
    "\n",
    "# Merge with initial lines dataframe\n",
    "recurrent_char_df = recurrent_char_df.merge(lines, on='Character', how='inner')\n",
    "recurrent_char_df"
   ]
  },
  {
   "cell_type": "markdown",
   "metadata": {},
   "source": [
    "## Task B: Read the scripts carefully\n",
    "\n",
    "### Part 1: Don't put the shovel down just yet\n",
    "\n",
    "**Q3**. From each dialogue line, replace punctuation marks (listed in the EXCLUDE_CHARS variable provided in `helpers/helper_functions.py`) with whitespaces, and lowercase all the text. **Do not remove any stopwords, leave them be for all the questions in this task.**"
   ]
  },
  {
   "cell_type": "code",
   "execution_count": 78,
   "metadata": {},
   "outputs": [
    {
     "data": {
      "text/html": [
       "<div>\n",
       "<style scoped>\n",
       "    .dataframe tbody tr th:only-of-type {\n",
       "        vertical-align: middle;\n",
       "    }\n",
       "\n",
       "    .dataframe tbody tr th {\n",
       "        vertical-align: top;\n",
       "    }\n",
       "\n",
       "    .dataframe thead th {\n",
       "        text-align: right;\n",
       "    }\n",
       "</style>\n",
       "<table border=\"1\" class=\"dataframe\">\n",
       "  <thead>\n",
       "    <tr style=\"text-align: right;\">\n",
       "      <th></th>\n",
       "      <th>Character</th>\n",
       "      <th>Season</th>\n",
       "      <th>Episode</th>\n",
       "      <th>Scene</th>\n",
       "      <th>Line</th>\n",
       "    </tr>\n",
       "  </thead>\n",
       "  <tbody>\n",
       "    <tr>\n",
       "      <th>0</th>\n",
       "      <td>Amy</td>\n",
       "      <td>3</td>\n",
       "      <td>Series 03 Episode 23 – The Lunar Excitation</td>\n",
       "      <td>A coffee shop.</td>\n",
       "      <td>excuse me  i m amy farrah fowler  you re sheld...</td>\n",
       "    </tr>\n",
       "    <tr>\n",
       "      <th>1</th>\n",
       "      <td>Amy</td>\n",
       "      <td>3</td>\n",
       "      <td>Series 03 Episode 23 – The Lunar Excitation</td>\n",
       "      <td>A coffee shop.</td>\n",
       "      <td>if that was slang  i m unfamiliar with it  if ...</td>\n",
       "    </tr>\n",
       "    <tr>\n",
       "      <th>2</th>\n",
       "      <td>Amy</td>\n",
       "      <td>3</td>\n",
       "      <td>Series 03 Episode 23 – The Lunar Excitation</td>\n",
       "      <td>A coffee shop.</td>\n",
       "      <td>i don t object to the concept of a deity  but ...</td>\n",
       "    </tr>\n",
       "    <tr>\n",
       "      <th>3</th>\n",
       "      <td>Amy</td>\n",
       "      <td>3</td>\n",
       "      <td>Series 03 Episode 23 – The Lunar Excitation</td>\n",
       "      <td>A coffee shop.</td>\n",
       "      <td>noted  now  before this goes any further  you ...</td>\n",
       "    </tr>\n",
       "    <tr>\n",
       "      <th>4</th>\n",
       "      <td>Amy</td>\n",
       "      <td>3</td>\n",
       "      <td>Series 03 Episode 23 – The Lunar Excitation</td>\n",
       "      <td>A coffee shop.</td>\n",
       "      <td>tepid water  please</td>\n",
       "    </tr>\n",
       "  </tbody>\n",
       "</table>\n",
       "</div>"
      ],
      "text/plain": [
       "  Character  Season                                      Episode  \\\n",
       "0       Amy       3  Series 03 Episode 23 – The Lunar Excitation   \n",
       "1       Amy       3  Series 03 Episode 23 – The Lunar Excitation   \n",
       "2       Amy       3  Series 03 Episode 23 – The Lunar Excitation   \n",
       "3       Amy       3  Series 03 Episode 23 – The Lunar Excitation   \n",
       "4       Amy       3  Series 03 Episode 23 – The Lunar Excitation   \n",
       "\n",
       "            Scene                                               Line  \n",
       "0  A coffee shop.  excuse me  i m amy farrah fowler  you re sheld...  \n",
       "1  A coffee shop.  if that was slang  i m unfamiliar with it  if ...  \n",
       "2  A coffee shop.  i don t object to the concept of a deity  but ...  \n",
       "3  A coffee shop.  noted  now  before this goes any further  you ...  \n",
       "4  A coffee shop.                               tepid water  please   "
      ]
     },
     "execution_count": 78,
     "metadata": {},
     "output_type": "execute_result"
    }
   ],
   "source": [
    "def clean_line(line):\n",
    "    for char in EXCLUDE_CHARS:\n",
    "        line = line.replace(char, ' ')\n",
    "    return line.lower()\n",
    "\n",
    "recurrent_char_df['Line'] = recurrent_char_df['Line'].apply(lambda x: clean_line(x))\n",
    "recurrent_char_df.head()"
   ]
  },
  {
   "cell_type": "markdown",
   "metadata": {},
   "source": [
    "**Q4**. For each term, calculate its \"corpus frequency\", i.e. its number of occurrences in the entire series. Visualize the distribution of corpus frequency using a histogram. Explain your observations. What are the appropriate x and y scales for this plot?"
   ]
  },
  {
   "cell_type": "code",
   "execution_count": 80,
   "metadata": {},
   "outputs": [
    {
     "data": {
      "text/html": [
       "<div>\n",
       "<style scoped>\n",
       "    .dataframe tbody tr th:only-of-type {\n",
       "        vertical-align: middle;\n",
       "    }\n",
       "\n",
       "    .dataframe tbody tr th {\n",
       "        vertical-align: top;\n",
       "    }\n",
       "\n",
       "    .dataframe thead th {\n",
       "        text-align: right;\n",
       "    }\n",
       "</style>\n",
       "<table border=\"1\" class=\"dataframe\">\n",
       "  <thead>\n",
       "    <tr style=\"text-align: right;\">\n",
       "      <th></th>\n",
       "      <th>Frequency</th>\n",
       "    </tr>\n",
       "    <tr>\n",
       "      <th>Word</th>\n",
       "      <th></th>\n",
       "    </tr>\n",
       "  </thead>\n",
       "  <tbody>\n",
       "    <tr>\n",
       "      <th></th>\n",
       "      <td>129442</td>\n",
       "    </tr>\n",
       "    <tr>\n",
       "      <th>0</th>\n",
       "      <td>5</td>\n",
       "    </tr>\n",
       "    <tr>\n",
       "      <th>00</th>\n",
       "      <td>5</td>\n",
       "    </tr>\n",
       "    <tr>\n",
       "      <th>000</th>\n",
       "      <td>33</td>\n",
       "    </tr>\n",
       "    <tr>\n",
       "      <th>000lb</th>\n",
       "      <td>1</td>\n",
       "    </tr>\n",
       "    <tr>\n",
       "      <th>...</th>\n",
       "      <td>...</td>\n",
       "    </tr>\n",
       "    <tr>\n",
       "      <th>…tion</th>\n",
       "      <td>1</td>\n",
       "    </tr>\n",
       "    <tr>\n",
       "      <th>…when</th>\n",
       "      <td>1</td>\n",
       "    </tr>\n",
       "    <tr>\n",
       "      <th>…who</th>\n",
       "      <td>1</td>\n",
       "    </tr>\n",
       "    <tr>\n",
       "      <th>‭yeah</th>\n",
       "      <td>1</td>\n",
       "    </tr>\n",
       "    <tr>\n",
       "      <th>♪</th>\n",
       "      <td>1</td>\n",
       "    </tr>\n",
       "  </tbody>\n",
       "</table>\n",
       "<p>21127 rows × 1 columns</p>\n",
       "</div>"
      ],
      "text/plain": [
       "       Frequency\n",
       "Word            \n",
       "          129442\n",
       "0              5\n",
       "00             5\n",
       "000           33\n",
       "000lb          1\n",
       "...          ...\n",
       "…tion          1\n",
       "…when          1\n",
       "…who           1\n",
       "‭yeah          1\n",
       "♪              1\n",
       "\n",
       "[21127 rows x 1 columns]"
      ]
     },
     "metadata": {},
     "output_type": "display_data"
    }
   ],
   "source": [
    "corpus_frequency = pd.concat([pd.Series(row['Line'].split(' ')) for _, row in recurrent_char_df.iterrows()]).reset_index()\n",
    "corpus_frequency.columns = [\"Frequency\", \"Word\"]\n",
    "corpus_frequency = corpus_frequency.groupby(\"Word\").count()\n",
    "display(corpus_frequency)"
   ]
  },
  {
   "cell_type": "code",
   "execution_count": 104,
   "metadata": {},
   "outputs": [
    {
     "data": {
      "image/png": "[encoded data removed]",
      "text/plain": [
       "<Figure size 640x480 with 1 Axes>"
      ]
     },
     "metadata": {},
     "output_type": "display_data"
    }
   ],
   "source": [
    "plt.hist(corpus_frequency['Frequency'], bins=100)\n",
    "plt.xlabel('Word')\n",
    "plt.ylabel('Frequency')\n",
    "plt.title('Frequency histogram')\n",
    "plt.show()"
   ]
  },
  {
   "cell_type": "code",
   "execution_count": null,
   "metadata": {},
   "outputs": [
    {
     "data": {
      "image/png": "[encoded data removed]",
      "text/plain": [
       "<Figure size 640x480 with 1 Axes>"
      ]
     },
     "metadata": {},
     "output_type": "display_data"
    }
   ],
   "source": [
    "%matplotlib inline\n",
    "plt.xscale('log')\n",
    "plt.yscale('log')\n",
    "plt.xticks(np.logspace(0, 6, 7))\n",
    "plt.hist(corpus_frequency['Frequency'], bins = np.logspace(0,6,100), log=True)\n",
    "plt.title('Frequency histogram in log-log scale')\n",
    "plt.show()"
   ]
  },
  {
   "cell_type": "markdown",
   "metadata": {},
   "source": [
    "### Part 2: Talkativity\n",
    "**Q5**. For each of the recurrent characters, calculate their total number of words uttered across all episodes. Based on this, who seems to be the most talkative character?"
   ]
  },
  {
   "cell_type": "code",
   "execution_count": 115,
   "metadata": {},
   "outputs": [
    {
     "data": {
      "text/plain": [
       "Character\n",
       "Amy              37384\n",
       "Arthur            1353\n",
       "Bernadette       25810\n",
       "Bert              1065\n",
       "Beverley          1918\n",
       "Emily             1472\n",
       "Howard           64988\n",
       "Kripke            1163\n",
       "Leonard          95608\n",
       "Leslie            1164\n",
       "Mrs Cooper        3205\n",
       "Mrs Wolowitz      1364\n",
       "Penny            74247\n",
       "Priya             1824\n",
       "Raj              56390\n",
       "Sheldon         174911\n",
       "Stuart            7407\n",
       "Wil               1577\n",
       "Zack              1336\n",
       "Name: Words, dtype: int64"
      ]
     },
     "metadata": {},
     "output_type": "display_data"
    }
   ],
   "source": [
    "recurrent_char_df[\"Words\"] = recurrent_char_df[\"Line\"].apply(lambda x: len(x.split()))\n",
    "words_per_char = recurrent_char_df.groupby(\"Character\").sum()[\"Words\"]\n",
    "# words_per_char[recurrent_chars.index]\n",
    "display(words_per_char)"
   ]
  },
  {
   "cell_type": "code",
   "execution_count": 121,
   "metadata": {},
   "outputs": [
    {
     "name": "stdout",
     "output_type": "stream",
     "text": [
      "Most talkative character :  Sheldon\n"
     ]
    }
   ],
   "source": [
    "words_per_char.idxmax()\n",
    "print(\"Most talkative character : \", words_per_char.idxmax())"
   ]
  },
  {
   "cell_type": "markdown",
   "metadata": {},
   "source": [
    "## Task D: The Detective's Hat\n",
    "\n",
    "Sheldon claims that given a dialogue line, he can, with an accuracy of above 70%, say whether it's by himself or by someone else. Leonard contests this claim, since he believes that this claimed accuracy is too high.\n",
    "\n",
    "**Q6**. Divide the set of all dialogue lines into two subsets: the training set, consisting of all the seasons except the last two, and the test set, consisting of the last two seasons."
   ]
  },
  {
   "cell_type": "code",
   "execution_count": null,
   "metadata": {},
   "outputs": [
    {
     "data": {
      "text/plain": [
       "38177"
      ]
     },
     "execution_count": 133,
     "metadata": {},
     "output_type": "execute_result"
    }
   ],
   "source": [
    "training_set = recurrent_char_df[recurrent_char_df['Season']<=recurrent_char_df['Season'].max()-2]\n",
    "training_set.shape[0]"
   ]
  },
  {
   "cell_type": "code",
   "execution_count": 134,
   "metadata": {},
   "outputs": [
    {
     "data": {
      "text/plain": [
       "10169"
      ]
     },
     "execution_count": 134,
     "metadata": {},
     "output_type": "execute_result"
    }
   ],
   "source": [
    "testing_set = recurrent_char_df[recurrent_char_df['Season']>recurrent_char_df['Season'].max()-2]\n",
    "testing_set.shape[0]"
   ]
  },
  {
   "cell_type": "markdown",
   "metadata": {},
   "source": [
    "**Q7**. Find the set of all words in the training set that are only uttered by Sheldon. Is it possible for Sheldon to identify himself only based on these? Use the test set to assess this possibility, and explain your method."
   ]
  },
  {
   "cell_type": "code",
   "execution_count": 140,
   "metadata": {
    "tags": []
   },
   "outputs": [],
   "source": [
    "words_for_chars = pd.concat([pd.Series(row[\"Character\"], row['Line'].split())\n",
    "                             for _, row in training_set.iterrows()]).reset_index()\n",
    "words_for_chars.columns = [\"Word\", \"Character\"]\n",
    "\n",
    "words_for_chars = words_for_chars.groupby(\"Word\")[\"Character\"].apply(set)\n",
    "sheldon_words = words_for_chars[words_for_chars.apply(lambda x: (\"Sheldon\" in x) and (len(x) == 1))].index"
   ]
  },
  {
   "cell_type": "code",
   "execution_count": 141,
   "metadata": {},
   "outputs": [],
   "source": [
    "def contains_sheldon_words(line):\n",
    "    for word in sheldon_words:\n",
    "        if word in line.split():\n",
    "            return True\n",
    "    return False\n",
    "test_pred = testing_set[\"Line\"].apply(contains_sheldon_words)\n",
    "test_true = testing_set[\"Character\"] == \"Sheldon\""
   ]
  },
  {
   "cell_type": "code",
   "execution_count": 142,
   "metadata": {},
   "outputs": [
    {
     "name": "stdout",
     "output_type": "stream",
     "text": [
      "Accuracy:  0.7627101976595535\n"
     ]
    }
   ],
   "source": [
    "print(\"Accuracy: \", (test_true == test_pred).sum() / len(test_true))"
   ]
  }
 ],
 "metadata": {
  "kernelspec": {
   "display_name": "ada",
   "language": "python",
   "name": "python3"
  },
  "language_info": {
   "codemirror_mode": {
    "name": "ipython",
    "version": 3
   },
   "file_extension": ".py",
   "mimetype": "text/x-python",
   "name": "python",
   "nbconvert_exporter": "python",
   "pygments_lexer": "ipython3",
   "version": "3.11.9"
  },
  "varInspector": {
   "cols": {
    "lenName": 16,
    "lenType": 16,
    "lenVar": 40
   },
   "kernels_config": {
    "python": {
     "delete_cmd_postfix": "",
     "delete_cmd_prefix": "del ",
     "library": "var_list.py",
     "varRefreshCmd": "print(var_dic_list())"
    },
    "r": {
     "delete_cmd_postfix": ") ",
     "delete_cmd_prefix": "rm(",
     "library": "var_list.r",
     "varRefreshCmd": "cat(var_dic_list()) "
    }
   },
   "types_to_exclude": [
    "module",
    "function",
    "builtin_function_or_method",
    "instance",
    "_Feature"
   ],
   "window_display": false
  }
 },
 "nbformat": 4,
 "nbformat_minor": 4
}
